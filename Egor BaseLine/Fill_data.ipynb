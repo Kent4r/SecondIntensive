{
 "cells": [
  {
   "cell_type": "markdown",
   "metadata": {},
   "source": [
    "Здесь будет описан алгоритм разбиения данных по колонке target, и заполнения пропусков по схожести данных"
   ]
  },
  {
   "cell_type": "code",
   "execution_count": 50,
   "metadata": {},
   "outputs": [],
   "source": [
    "import pandas as pd\n",
    "import missingno as msn\n",
    "import warnings\n",
    "warnings.filterwarnings(\"ignore\")"
   ]
  },
  {
   "cell_type": "markdown",
   "metadata": {},
   "source": [
    "После импорта библиотек, загружаем данные и удаляем колонки с наполненостью менее 20%"
   ]
  },
  {
   "cell_type": "code",
   "execution_count": 51,
   "metadata": {},
   "outputs": [],
   "source": [
    "df = pd.read_csv(\"../processed_train.csv\")\n",
    "df = df.drop(columns='report_date')\n",
    "df = df.loc[:, ((df.isnull())).mean() < 0.8]"
   ]
  },
  {
   "cell_type": "markdown",
   "metadata": {},
   "source": [
    "Разбиваем датафрем на два по target"
   ]
  },
  {
   "cell_type": "code",
   "execution_count": 52,
   "metadata": {},
   "outputs": [],
   "source": [
    "df_target_0 = df[df['target'] == 0]\n",
    "df_target_1 = df[df['target'] == 1]"
   ]
  },
  {
   "cell_type": "markdown",
   "metadata": {},
   "source": [
    "Оцениваем % пропусков"
   ]
  },
  {
   "cell_type": "code",
   "execution_count": null,
   "metadata": {},
   "outputs": [],
   "source": [
    "msn.bar(df_target_1, fontsize=10, color=(1, 0.75, 0.8))"
   ]
  },
  {
   "cell_type": "markdown",
   "metadata": {},
   "source": [
    "При помощи улучшенного алгоритма kNN (аналог KNNImputer из sklearn.impute)"
   ]
  },
  {
   "cell_type": "code",
   "execution_count": 54,
   "metadata": {},
   "outputs": [
    {
     "name": "stdout",
     "output_type": "stream",
     "text": [
      "Imputing row 1/14020 with 8 missing, elapsed time: 16.039\n",
      "Imputing row 101/14020 with 3 missing, elapsed time: 16.056\n",
      "Imputing row 201/14020 with 8 missing, elapsed time: 16.073\n",
      "Imputing row 301/14020 with 5 missing, elapsed time: 16.089\n",
      "Imputing row 401/14020 with 4 missing, elapsed time: 16.105\n",
      "Imputing row 501/14020 with 4 missing, elapsed time: 16.119\n",
      "Imputing row 601/14020 with 9 missing, elapsed time: 16.134\n",
      "Imputing row 701/14020 with 9 missing, elapsed time: 16.152\n",
      "Imputing row 801/14020 with 4 missing, elapsed time: 16.167\n",
      "Imputing row 901/14020 with 3 missing, elapsed time: 16.182\n",
      "Imputing row 1001/14020 with 3 missing, elapsed time: 16.197\n",
      "Imputing row 1101/14020 with 0 missing, elapsed time: 16.213\n",
      "Imputing row 1201/14020 with 5 missing, elapsed time: 16.227\n",
      "Imputing row 1301/14020 with 8 missing, elapsed time: 16.243\n",
      "Imputing row 1401/14020 with 5 missing, elapsed time: 16.258\n",
      "Imputing row 1501/14020 with 8 missing, elapsed time: 16.273\n",
      "Imputing row 1601/14020 with 4 missing, elapsed time: 16.289\n",
      "Imputing row 1701/14020 with 4 missing, elapsed time: 16.304\n",
      "Imputing row 1801/14020 with 1 missing, elapsed time: 16.321\n",
      "Imputing row 1901/14020 with 9 missing, elapsed time: 16.336\n",
      "Imputing row 2001/14020 with 4 missing, elapsed time: 16.351\n",
      "Imputing row 2101/14020 with 7 missing, elapsed time: 16.367\n",
      "Imputing row 2201/14020 with 0 missing, elapsed time: 16.381\n",
      "Imputing row 2301/14020 with 0 missing, elapsed time: 16.398\n",
      "Imputing row 2401/14020 with 3 missing, elapsed time: 16.415\n",
      "Imputing row 2501/14020 with 9 missing, elapsed time: 16.429\n",
      "Imputing row 2601/14020 with 5 missing, elapsed time: 16.446\n",
      "Imputing row 2701/14020 with 8 missing, elapsed time: 16.461\n",
      "Imputing row 2801/14020 with 3 missing, elapsed time: 16.476\n",
      "Imputing row 2901/14020 with 1 missing, elapsed time: 16.492\n",
      "Imputing row 3001/14020 with 4 missing, elapsed time: 16.508\n",
      "Imputing row 3101/14020 with 8 missing, elapsed time: 16.525\n",
      "Imputing row 3201/14020 with 8 missing, elapsed time: 16.541\n",
      "Imputing row 3301/14020 with 2 missing, elapsed time: 16.556\n",
      "Imputing row 3401/14020 with 3 missing, elapsed time: 16.573\n",
      "Imputing row 3501/14020 with 1 missing, elapsed time: 16.590\n",
      "Imputing row 3601/14020 with 8 missing, elapsed time: 16.607\n",
      "Imputing row 3701/14020 with 3 missing, elapsed time: 16.623\n",
      "Imputing row 3801/14020 with 8 missing, elapsed time: 16.639\n",
      "Imputing row 3901/14020 with 5 missing, elapsed time: 16.652\n",
      "Imputing row 4001/14020 with 9 missing, elapsed time: 16.667\n",
      "Imputing row 4101/14020 with 6 missing, elapsed time: 16.684\n",
      "Imputing row 4201/14020 with 5 missing, elapsed time: 16.699\n",
      "Imputing row 4301/14020 with 3 missing, elapsed time: 16.714\n",
      "Imputing row 4401/14020 with 0 missing, elapsed time: 16.730\n",
      "Imputing row 4501/14020 with 5 missing, elapsed time: 16.746\n",
      "Imputing row 4601/14020 with 2 missing, elapsed time: 16.762\n",
      "Imputing row 4701/14020 with 4 missing, elapsed time: 16.777\n",
      "Imputing row 4801/14020 with 3 missing, elapsed time: 16.791\n",
      "Imputing row 4901/14020 with 8 missing, elapsed time: 16.806\n",
      "Imputing row 5001/14020 with 8 missing, elapsed time: 16.823\n",
      "Imputing row 5101/14020 with 4 missing, elapsed time: 16.840\n",
      "Imputing row 5201/14020 with 0 missing, elapsed time: 16.854\n",
      "Imputing row 5301/14020 with 4 missing, elapsed time: 16.869\n",
      "Imputing row 5401/14020 with 5 missing, elapsed time: 16.884\n",
      "Imputing row 5501/14020 with 8 missing, elapsed time: 16.901\n",
      "Imputing row 5601/14020 with 4 missing, elapsed time: 16.916\n",
      "Imputing row 5701/14020 with 9 missing, elapsed time: 16.932\n",
      "Imputing row 5801/14020 with 3 missing, elapsed time: 16.948\n",
      "Imputing row 5901/14020 with 8 missing, elapsed time: 16.965\n",
      "Imputing row 6001/14020 with 8 missing, elapsed time: 16.982\n",
      "Imputing row 6101/14020 with 4 missing, elapsed time: 16.999\n",
      "Imputing row 6201/14020 with 4 missing, elapsed time: 17.014\n",
      "Imputing row 6301/14020 with 8 missing, elapsed time: 17.030\n",
      "Imputing row 6401/14020 with 5 missing, elapsed time: 17.047\n",
      "Imputing row 6501/14020 with 4 missing, elapsed time: 17.063\n",
      "Imputing row 6601/14020 with 8 missing, elapsed time: 17.077\n",
      "Imputing row 6701/14020 with 0 missing, elapsed time: 17.093\n",
      "Imputing row 6801/14020 with 5 missing, elapsed time: 17.110\n",
      "Imputing row 6901/14020 with 9 missing, elapsed time: 17.127\n",
      "Imputing row 7001/14020 with 0 missing, elapsed time: 17.142\n",
      "Imputing row 7101/14020 with 4 missing, elapsed time: 17.159\n",
      "Imputing row 7201/14020 with 0 missing, elapsed time: 17.174\n",
      "Imputing row 7301/14020 with 3 missing, elapsed time: 17.190\n",
      "Imputing row 7401/14020 with 0 missing, elapsed time: 17.205\n",
      "Imputing row 7501/14020 with 5 missing, elapsed time: 17.221\n",
      "Imputing row 7601/14020 with 3 missing, elapsed time: 17.237\n",
      "Imputing row 7701/14020 with 3 missing, elapsed time: 17.254\n",
      "Imputing row 7801/14020 with 0 missing, elapsed time: 17.270\n",
      "Imputing row 7901/14020 with 5 missing, elapsed time: 17.285\n",
      "Imputing row 8001/14020 with 4 missing, elapsed time: 17.300\n",
      "Imputing row 8101/14020 with 3 missing, elapsed time: 17.317\n",
      "Imputing row 8201/14020 with 8 missing, elapsed time: 17.334\n",
      "Imputing row 8301/14020 with 3 missing, elapsed time: 17.352\n",
      "Imputing row 8401/14020 with 4 missing, elapsed time: 17.371\n",
      "Imputing row 8501/14020 with 3 missing, elapsed time: 17.388\n",
      "Imputing row 8601/14020 with 4 missing, elapsed time: 17.403\n",
      "Imputing row 8701/14020 with 9 missing, elapsed time: 17.419\n",
      "Imputing row 8801/14020 with 5 missing, elapsed time: 17.435\n",
      "Imputing row 8901/14020 with 8 missing, elapsed time: 17.451\n",
      "Imputing row 9001/14020 with 5 missing, elapsed time: 17.467\n",
      "Imputing row 9101/14020 with 4 missing, elapsed time: 17.482\n",
      "Imputing row 9201/14020 with 9 missing, elapsed time: 17.497\n",
      "Imputing row 9301/14020 with 8 missing, elapsed time: 17.513\n",
      "Imputing row 9401/14020 with 8 missing, elapsed time: 17.528\n",
      "Imputing row 9501/14020 with 5 missing, elapsed time: 17.545\n",
      "Imputing row 9601/14020 with 3 missing, elapsed time: 17.561\n",
      "Imputing row 9701/14020 with 5 missing, elapsed time: 17.576\n",
      "Imputing row 9801/14020 with 4 missing, elapsed time: 17.594\n",
      "Imputing row 9901/14020 with 1 missing, elapsed time: 17.610\n",
      "Imputing row 10001/14020 with 9 missing, elapsed time: 17.627\n",
      "Imputing row 10101/14020 with 3 missing, elapsed time: 17.643\n",
      "Imputing row 10201/14020 with 0 missing, elapsed time: 17.658\n",
      "Imputing row 10301/14020 with 0 missing, elapsed time: 17.673\n",
      "Imputing row 10401/14020 with 9 missing, elapsed time: 17.690\n",
      "Imputing row 10501/14020 with 3 missing, elapsed time: 17.707\n",
      "Imputing row 10601/14020 with 0 missing, elapsed time: 17.724\n",
      "Imputing row 10701/14020 with 8 missing, elapsed time: 17.740\n",
      "Imputing row 10801/14020 with 8 missing, elapsed time: 17.754\n",
      "Imputing row 10901/14020 with 9 missing, elapsed time: 17.772\n",
      "Imputing row 11001/14020 with 5 missing, elapsed time: 17.788\n",
      "Imputing row 11101/14020 with 9 missing, elapsed time: 17.805\n",
      "Imputing row 11201/14020 with 8 missing, elapsed time: 17.819\n",
      "Imputing row 11301/14020 with 5 missing, elapsed time: 17.837\n",
      "Imputing row 11401/14020 with 9 missing, elapsed time: 17.851\n",
      "Imputing row 11501/14020 with 0 missing, elapsed time: 17.868\n",
      "Imputing row 11601/14020 with 0 missing, elapsed time: 17.883\n",
      "Imputing row 11701/14020 with 3 missing, elapsed time: 17.898\n",
      "Imputing row 11801/14020 with 4 missing, elapsed time: 17.914\n",
      "Imputing row 11901/14020 with 4 missing, elapsed time: 17.931\n",
      "Imputing row 12001/14020 with 4 missing, elapsed time: 17.946\n",
      "Imputing row 12101/14020 with 4 missing, elapsed time: 17.961\n",
      "Imputing row 12201/14020 with 4 missing, elapsed time: 17.978\n",
      "Imputing row 12301/14020 with 8 missing, elapsed time: 17.994\n",
      "Imputing row 12401/14020 with 3 missing, elapsed time: 18.011\n",
      "Imputing row 12501/14020 with 1 missing, elapsed time: 18.025\n",
      "Imputing row 12601/14020 with 0 missing, elapsed time: 18.038\n",
      "Imputing row 12701/14020 with 4 missing, elapsed time: 18.053\n",
      "Imputing row 12801/14020 with 4 missing, elapsed time: 18.069\n",
      "Imputing row 12901/14020 with 4 missing, elapsed time: 18.084\n",
      "Imputing row 13001/14020 with 5 missing, elapsed time: 18.102\n",
      "Imputing row 13101/14020 with 4 missing, elapsed time: 18.116\n",
      "Imputing row 13201/14020 with 4 missing, elapsed time: 18.132\n",
      "Imputing row 13301/14020 with 9 missing, elapsed time: 18.148\n",
      "Imputing row 13401/14020 with 8 missing, elapsed time: 18.163\n",
      "Imputing row 13501/14020 with 4 missing, elapsed time: 18.178\n",
      "Imputing row 13601/14020 with 8 missing, elapsed time: 18.196\n",
      "Imputing row 13701/14020 with 4 missing, elapsed time: 18.214\n",
      "Imputing row 13801/14020 with 9 missing, elapsed time: 18.232\n",
      "Imputing row 13901/14020 with 7 missing, elapsed time: 18.248\n",
      "Imputing row 14001/14020 with 0 missing, elapsed time: 18.265\n",
      "Imputing row 1/436 with 5 missing, elapsed time: 0.014\n",
      "Imputing row 101/436 with 4 missing, elapsed time: 0.016\n",
      "Imputing row 201/436 with 1 missing, elapsed time: 0.018\n",
      "Imputing row 301/436 with 4 missing, elapsed time: 0.019\n",
      "Imputing row 401/436 with 8 missing, elapsed time: 0.021\n"
     ]
    }
   ],
   "source": [
    "from fancyimpute import KNN\n",
    "\n",
    "df_filled_0 = pd.DataFrame(KNN(k=12).fit_transform(df_target_0), columns=df_target_0.columns)\n",
    "df_filled_1 = pd.DataFrame(KNN(k=12).fit_transform(df_target_1), columns=df_target_1.columns)\n",
    "df_combined = pd.concat([df_filled_0, df_filled_1])"
   ]
  },
  {
   "cell_type": "markdown",
   "metadata": {},
   "source": [
    "Обучаем модуль и смотрим метрику по ней"
   ]
  },
  {
   "cell_type": "code",
   "execution_count": 55,
   "metadata": {},
   "outputs": [
    {
     "data": {
      "image/png": "[encoded data removed]",
      "text/plain": [
       "<Figure size 640x480 with 1 Axes>"
      ]
     },
     "metadata": {},
     "output_type": "display_data"
    },
    {
     "name": "stdout",
     "output_type": "stream",
     "text": [
      "AUC: 0.744\n"
     ]
    }
   ],
   "source": [
    "from sklearn.model_selection import train_test_split\n",
    "from sklearn.linear_model import LogisticRegression\n",
    "from sklearn import metrics\n",
    "import matplotlib.pyplot as plt\n",
    "\n",
    "data = df_combined\n",
    "X = data.drop(columns='target')\n",
    "y = data['target']\n",
    "\n",
    "X_train, X_test, y_train, y_test = train_test_split(X, y, test_size=0.3, random_state=42)\n",
    "\n",
    "# инициализация и обучение модели\n",
    "log_regression = LogisticRegression()\n",
    "log_regression.fit(X_train, y_train)\n",
    "\n",
    "# предсказание вероятностей\n",
    "y_pred_proba = log_regression.predict_proba(X_test)[:,1]\n",
    "\n",
    "fpr, tpr, _ = metrics.roc_curve(y_test,  y_pred_proba)\n",
    "\n",
    "# построение ROC кривой\n",
    "plt.plot(fpr, tpr)\n",
    "plt.ylabel('True Positive Rate')\n",
    "plt.xlabel('False Positive Rate')\n",
    "plt.show()\n",
    "\n",
    "auc = metrics.roc_auc_score(y_test, y_pred_proba)\n",
    "print(\"AUC: %.3f\" % auc)"
   ]
  }
 ],
 "metadata": {
  "kernelspec": {
   "display_name": "Python 3",
   "language": "python",
   "name": "python3"
  },
  "language_info": {
   "codemirror_mode": {
    "name": "ipython",
    "version": 3
   },
   "file_extension": ".py",
   "mimetype": "text/x-python",
   "name": "python",
   "nbconvert_exporter": "python",
   "pygments_lexer": "ipython3",
   "version": "3.13.1"
  }
 },
 "nbformat": 4,
 "nbformat_minor": 2
}
