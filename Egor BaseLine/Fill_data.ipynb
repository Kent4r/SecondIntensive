{
 "cells": [
  {
   "cell_type": "markdown",
   "metadata": {},
   "source": [
    "Здесь будет описан алгоритм разбиения данных по колонке target, и заполнения пропусков по схожести данных"
   ]
  },
  {
   "cell_type": "code",
   "execution_count": 56,
   "metadata": {},
   "outputs": [],
   "source": [
    "import pandas as pd\n",
    "import missingno as msn\n",
    "import warnings\n",
    "warnings.filterwarnings(\"ignore\")"
   ]
  },
  {
   "cell_type": "markdown",
   "metadata": {},
   "source": [
    "После импорта библиотек, загружаем данные и удаляем колонки с наполненостью менее 20%"
   ]
  },
  {
   "cell_type": "code",
   "execution_count": 57,
   "metadata": {},
   "outputs": [],
   "source": [
    "df = pd.read_csv(\"../processed_train.csv\")\n",
    "df = df.drop(columns='report_date')\n",
    "df = df.loc[:, ((df.isnull())).mean() < 0.8]"
   ]
  },
  {
   "cell_type": "markdown",
   "metadata": {},
   "source": [
    "Разбиваем датафрем на два по target"
   ]
  },
  {
   "cell_type": "code",
   "execution_count": 58,
   "metadata": {},
   "outputs": [],
   "source": [
    "df_target_0 = df[df['target'] == 0]\n",
    "df_target_1 = df[df['target'] == 1]"
   ]
  },
  {
   "cell_type": "markdown",
   "metadata": {},
   "source": [
    "Оцениваем % пропусков"
   ]
  },
  {
   "cell_type": "code",
   "execution_count": null,
   "metadata": {},
   "outputs": [],
   "source": [
    "msn.bar(df_target_1, fontsize=10, color=(1, 0.75, 0.8))"
   ]
  },
  {
   "cell_type": "markdown",
   "metadata": {},
   "source": [
    "При помощи улучшенного алгоритма kNN (аналог KNNImputer из sklearn.impute) заполняем данные"
   ]
  },
  {
   "cell_type": "code",
   "execution_count": 60,
   "metadata": {},
   "outputs": [
    {
     "name": "stdout",
     "output_type": "stream",
     "text": [
      "Imputing row 1/14020 with 8 missing, elapsed time: 16.553\n",
      "Imputing row 101/14020 with 3 missing, elapsed time: 16.571\n",
      "Imputing row 201/14020 with 8 missing, elapsed time: 16.589\n",
      "Imputing row 301/14020 with 5 missing, elapsed time: 16.605\n",
      "Imputing row 401/14020 with 4 missing, elapsed time: 16.621\n",
      "Imputing row 501/14020 with 4 missing, elapsed time: 16.636\n",
      "Imputing row 601/14020 with 9 missing, elapsed time: 16.655\n",
      "Imputing row 701/14020 with 9 missing, elapsed time: 16.675\n",
      "Imputing row 801/14020 with 4 missing, elapsed time: 16.691\n",
      "Imputing row 901/14020 with 3 missing, elapsed time: 16.707\n",
      "Imputing row 1001/14020 with 3 missing, elapsed time: 16.723\n",
      "Imputing row 1101/14020 with 0 missing, elapsed time: 16.741\n",
      "Imputing row 1201/14020 with 5 missing, elapsed time: 16.756\n",
      "Imputing row 1301/14020 with 8 missing, elapsed time: 16.772\n",
      "Imputing row 1401/14020 with 5 missing, elapsed time: 16.787\n",
      "Imputing row 1501/14020 with 8 missing, elapsed time: 16.802\n",
      "Imputing row 1601/14020 with 4 missing, elapsed time: 16.818\n",
      "Imputing row 1701/14020 with 4 missing, elapsed time: 16.835\n",
      "Imputing row 1801/14020 with 1 missing, elapsed time: 16.853\n",
      "Imputing row 1901/14020 with 9 missing, elapsed time: 16.869\n",
      "Imputing row 2001/14020 with 4 missing, elapsed time: 16.884\n",
      "Imputing row 2101/14020 with 7 missing, elapsed time: 16.900\n",
      "Imputing row 2201/14020 with 0 missing, elapsed time: 16.918\n",
      "Imputing row 2301/14020 with 0 missing, elapsed time: 16.935\n",
      "Imputing row 2401/14020 with 3 missing, elapsed time: 16.953\n",
      "Imputing row 2501/14020 with 9 missing, elapsed time: 16.969\n",
      "Imputing row 2601/14020 with 5 missing, elapsed time: 16.989\n",
      "Imputing row 2701/14020 with 8 missing, elapsed time: 17.005\n",
      "Imputing row 2801/14020 with 3 missing, elapsed time: 17.020\n",
      "Imputing row 2901/14020 with 1 missing, elapsed time: 17.036\n",
      "Imputing row 3001/14020 with 4 missing, elapsed time: 17.052\n",
      "Imputing row 3101/14020 with 8 missing, elapsed time: 17.069\n",
      "Imputing row 3201/14020 with 8 missing, elapsed time: 17.086\n",
      "Imputing row 3301/14020 with 2 missing, elapsed time: 17.103\n",
      "Imputing row 3401/14020 with 3 missing, elapsed time: 17.120\n",
      "Imputing row 3501/14020 with 1 missing, elapsed time: 17.138\n",
      "Imputing row 3601/14020 with 8 missing, elapsed time: 17.154\n",
      "Imputing row 3701/14020 with 3 missing, elapsed time: 17.170\n",
      "Imputing row 3801/14020 with 8 missing, elapsed time: 17.186\n",
      "Imputing row 3901/14020 with 5 missing, elapsed time: 17.199\n",
      "Imputing row 4001/14020 with 9 missing, elapsed time: 17.217\n",
      "Imputing row 4101/14020 with 6 missing, elapsed time: 17.235\n",
      "Imputing row 4201/14020 with 5 missing, elapsed time: 17.250\n",
      "Imputing row 4301/14020 with 3 missing, elapsed time: 17.266\n",
      "Imputing row 4401/14020 with 0 missing, elapsed time: 17.282\n",
      "Imputing row 4501/14020 with 5 missing, elapsed time: 17.298\n",
      "Imputing row 4601/14020 with 2 missing, elapsed time: 17.314\n",
      "Imputing row 4701/14020 with 4 missing, elapsed time: 17.329\n",
      "Imputing row 4801/14020 with 3 missing, elapsed time: 17.345\n",
      "Imputing row 4901/14020 with 8 missing, elapsed time: 17.360\n",
      "Imputing row 5001/14020 with 8 missing, elapsed time: 17.378\n",
      "Imputing row 5101/14020 with 4 missing, elapsed time: 17.397\n",
      "Imputing row 5201/14020 with 0 missing, elapsed time: 17.412\n",
      "Imputing row 5301/14020 with 4 missing, elapsed time: 17.430\n",
      "Imputing row 5401/14020 with 5 missing, elapsed time: 17.446\n",
      "Imputing row 5501/14020 with 8 missing, elapsed time: 17.463\n",
      "Imputing row 5601/14020 with 4 missing, elapsed time: 17.480\n",
      "Imputing row 5701/14020 with 9 missing, elapsed time: 17.496\n",
      "Imputing row 5801/14020 with 3 missing, elapsed time: 17.516\n",
      "Imputing row 5901/14020 with 8 missing, elapsed time: 17.535\n",
      "Imputing row 6001/14020 with 8 missing, elapsed time: 17.552\n",
      "Imputing row 6101/14020 with 4 missing, elapsed time: 17.569\n",
      "Imputing row 6201/14020 with 4 missing, elapsed time: 17.582\n",
      "Imputing row 6301/14020 with 8 missing, elapsed time: 17.599\n",
      "Imputing row 6401/14020 with 5 missing, elapsed time: 17.617\n",
      "Imputing row 6501/14020 with 4 missing, elapsed time: 17.633\n",
      "Imputing row 6601/14020 with 8 missing, elapsed time: 17.648\n",
      "Imputing row 6701/14020 with 0 missing, elapsed time: 17.664\n",
      "Imputing row 6801/14020 with 5 missing, elapsed time: 17.680\n",
      "Imputing row 6901/14020 with 9 missing, elapsed time: 17.699\n",
      "Imputing row 7001/14020 with 0 missing, elapsed time: 17.714\n",
      "Imputing row 7101/14020 with 4 missing, elapsed time: 17.733\n",
      "Imputing row 7201/14020 with 0 missing, elapsed time: 17.749\n",
      "Imputing row 7301/14020 with 3 missing, elapsed time: 17.766\n",
      "Imputing row 7401/14020 with 0 missing, elapsed time: 17.784\n",
      "Imputing row 7501/14020 with 5 missing, elapsed time: 17.802\n",
      "Imputing row 7601/14020 with 3 missing, elapsed time: 17.821\n",
      "Imputing row 7701/14020 with 3 missing, elapsed time: 17.839\n",
      "Imputing row 7801/14020 with 0 missing, elapsed time: 17.854\n",
      "Imputing row 7901/14020 with 5 missing, elapsed time: 17.869\n",
      "Imputing row 8001/14020 with 4 missing, elapsed time: 17.887\n",
      "Imputing row 8101/14020 with 3 missing, elapsed time: 17.904\n",
      "Imputing row 8201/14020 with 8 missing, elapsed time: 17.923\n",
      "Imputing row 8301/14020 with 3 missing, elapsed time: 17.941\n",
      "Imputing row 8401/14020 with 4 missing, elapsed time: 17.961\n",
      "Imputing row 8501/14020 with 3 missing, elapsed time: 17.978\n",
      "Imputing row 8601/14020 with 4 missing, elapsed time: 17.994\n",
      "Imputing row 8701/14020 with 9 missing, elapsed time: 18.011\n",
      "Imputing row 8801/14020 with 5 missing, elapsed time: 18.029\n",
      "Imputing row 8901/14020 with 8 missing, elapsed time: 18.046\n",
      "Imputing row 9001/14020 with 5 missing, elapsed time: 18.067\n",
      "Imputing row 9101/14020 with 4 missing, elapsed time: 18.085\n",
      "Imputing row 9201/14020 with 9 missing, elapsed time: 18.101\n",
      "Imputing row 9301/14020 with 8 missing, elapsed time: 18.117\n",
      "Imputing row 9401/14020 with 8 missing, elapsed time: 18.133\n",
      "Imputing row 9501/14020 with 5 missing, elapsed time: 18.151\n",
      "Imputing row 9601/14020 with 3 missing, elapsed time: 18.168\n",
      "Imputing row 9701/14020 with 5 missing, elapsed time: 18.184\n",
      "Imputing row 9801/14020 with 4 missing, elapsed time: 18.200\n",
      "Imputing row 9901/14020 with 1 missing, elapsed time: 18.219\n",
      "Imputing row 10001/14020 with 9 missing, elapsed time: 18.237\n",
      "Imputing row 10101/14020 with 3 missing, elapsed time: 18.254\n",
      "Imputing row 10201/14020 with 0 missing, elapsed time: 18.269\n",
      "Imputing row 10301/14020 with 0 missing, elapsed time: 18.285\n",
      "Imputing row 10401/14020 with 9 missing, elapsed time: 18.301\n",
      "Imputing row 10501/14020 with 3 missing, elapsed time: 18.317\n",
      "Imputing row 10601/14020 with 0 missing, elapsed time: 18.335\n",
      "Imputing row 10701/14020 with 8 missing, elapsed time: 18.356\n",
      "Imputing row 10801/14020 with 8 missing, elapsed time: 18.373\n",
      "Imputing row 10901/14020 with 9 missing, elapsed time: 18.392\n",
      "Imputing row 11001/14020 with 5 missing, elapsed time: 18.410\n",
      "Imputing row 11101/14020 with 9 missing, elapsed time: 18.427\n",
      "Imputing row 11201/14020 with 8 missing, elapsed time: 18.445\n",
      "Imputing row 11301/14020 with 5 missing, elapsed time: 18.462\n",
      "Imputing row 11401/14020 with 9 missing, elapsed time: 18.477\n",
      "Imputing row 11501/14020 with 0 missing, elapsed time: 18.494\n",
      "Imputing row 11601/14020 with 0 missing, elapsed time: 18.510\n",
      "Imputing row 11701/14020 with 3 missing, elapsed time: 18.526\n",
      "Imputing row 11801/14020 with 4 missing, elapsed time: 18.544\n",
      "Imputing row 11901/14020 with 4 missing, elapsed time: 18.563\n",
      "Imputing row 12001/14020 with 4 missing, elapsed time: 18.582\n",
      "Imputing row 12101/14020 with 4 missing, elapsed time: 18.599\n",
      "Imputing row 12201/14020 with 4 missing, elapsed time: 18.616\n",
      "Imputing row 12301/14020 with 8 missing, elapsed time: 18.634\n",
      "Imputing row 12401/14020 with 3 missing, elapsed time: 18.651\n",
      "Imputing row 12501/14020 with 1 missing, elapsed time: 18.668\n",
      "Imputing row 12601/14020 with 0 missing, elapsed time: 18.681\n",
      "Imputing row 12701/14020 with 4 missing, elapsed time: 18.698\n",
      "Imputing row 12801/14020 with 4 missing, elapsed time: 18.717\n",
      "Imputing row 12901/14020 with 4 missing, elapsed time: 18.732\n",
      "Imputing row 13001/14020 with 5 missing, elapsed time: 18.752\n",
      "Imputing row 13101/14020 with 4 missing, elapsed time: 18.767\n",
      "Imputing row 13201/14020 with 4 missing, elapsed time: 18.783\n",
      "Imputing row 13301/14020 with 9 missing, elapsed time: 18.800\n",
      "Imputing row 13401/14020 with 8 missing, elapsed time: 18.817\n",
      "Imputing row 13501/14020 with 4 missing, elapsed time: 18.834\n",
      "Imputing row 13601/14020 with 8 missing, elapsed time: 18.851\n",
      "Imputing row 13701/14020 with 4 missing, elapsed time: 18.870\n",
      "Imputing row 13801/14020 with 9 missing, elapsed time: 18.890\n",
      "Imputing row 13901/14020 with 7 missing, elapsed time: 18.906\n",
      "Imputing row 14001/14020 with 0 missing, elapsed time: 18.924\n",
      "Imputing row 1/436 with 5 missing, elapsed time: 0.017\n",
      "Imputing row 101/436 with 4 missing, elapsed time: 0.020\n",
      "Imputing row 201/436 with 1 missing, elapsed time: 0.022\n",
      "Imputing row 301/436 with 4 missing, elapsed time: 0.024\n",
      "Imputing row 401/436 with 8 missing, elapsed time: 0.027\n"
     ]
    }
   ],
   "source": [
    "from fancyimpute import KNN\n",
    "\n",
    "df_filled_0 = pd.DataFrame(KNN(k=12).fit_transform(df_target_0), columns=df_target_0.columns)\n",
    "df_filled_1 = pd.DataFrame(KNN(k=12).fit_transform(df_target_1), columns=df_target_1.columns)\n",
    "df_combined = pd.concat([df_filled_0, df_filled_1])"
   ]
  },
  {
   "cell_type": "markdown",
   "metadata": {},
   "source": [
    "Обучаем модуль и смотрим метрику по ней"
   ]
  },
  {
   "cell_type": "code",
   "execution_count": 61,
   "metadata": {},
   "outputs": [
    {
     "data": {
      "image/png": "[encoded data removed]",
      "text/plain": [
       "<Figure size 640x480 with 1 Axes>"
      ]
     },
     "metadata": {},
     "output_type": "display_data"
    },
    {
     "name": "stdout",
     "output_type": "stream",
     "text": [
      "AUC: 0.744\n"
     ]
    }
   ],
   "source": [
    "from sklearn.model_selection import train_test_split\n",
    "from sklearn.linear_model import LogisticRegression\n",
    "from sklearn import metrics\n",
    "import matplotlib.pyplot as plt\n",
    "\n",
    "data = df_combined\n",
    "X = data.drop(columns='target')\n",
    "y = data['target']\n",
    "\n",
    "X_train, X_test, y_train, y_test = train_test_split(X, y, test_size=0.3, random_state=42)\n",
    "\n",
    "# инициализация и обучение модели\n",
    "log_regression = LogisticRegression()\n",
    "log_regression.fit(X_train, y_train)\n",
    "\n",
    "# предсказание вероятностей\n",
    "y_pred_proba = log_regression.predict_proba(X_test)[:,1]\n",
    "\n",
    "fpr, tpr, _ = metrics.roc_curve(y_test,  y_pred_proba)\n",
    "\n",
    "# построение ROC кривой\n",
    "plt.plot(fpr, tpr)\n",
    "plt.ylabel('True Positive Rate')\n",
    "plt.xlabel('False Positive Rate')\n",
    "plt.show()\n",
    "\n",
    "auc = metrics.roc_auc_score(y_test, y_pred_proba)\n",
    "print(\"AUC: %.3f\" % auc)"
   ]
  }
 ],
 "metadata": {
  "kernelspec": {
   "display_name": "Python 3",
   "language": "python",
   "name": "python3"
  },
  "language_info": {
   "codemirror_mode": {
    "name": "ipython",
    "version": 3
   },
   "file_extension": ".py",
   "mimetype": "text/x-python",
   "name": "python",
   "nbconvert_exporter": "python",
   "pygments_lexer": "ipython3",
   "version": "3.13.1"
  }
 },
 "nbformat": 4,
 "nbformat_minor": 2
}
