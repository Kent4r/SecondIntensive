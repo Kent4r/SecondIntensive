{
 "cells": [
  {
   "cell_type": "markdown",
   "metadata": {},
   "source": [
    "Baseline Никиты Кочкина"
   ]
  },
  {
   "cell_type": "code",
   "execution_count": 19,
   "metadata": {},
   "outputs": [],
   "source": [
    "import pandas as pd\n",
    "\n",
    "# Загрузка данных\n",
    "train_data = pd.read_csv('../processed_train.csv')\n",
    "valid_data = pd.read_csv('../valid/processed_valid.csv')\n",
    "train_data=train_data.drop(columns=['col2295', 'col2543', 'col2575',\"report_date\"])\n",
    "valid_data=valid_data.drop(columns=\"report_date\")\n",
    "train_data = train_data.loc[:, ((train_data.isnull())).mean() < 0.8]\n",
    "valid_data = valid_data.loc[:, ((valid_data.isnull())).mean() < 0.8]\n",
    "columns_to_keep = train_data.columns\n",
    "valid_data = valid_data[columns_to_keep]\n",
    "# Разделение на признаки и целевую переменную\n",
    "X_train = train_data.drop('target', axis=1)\n",
    "y_train = train_data['target']\n",
    "X_valid = valid_data.drop('target', axis=1)\n",
    "y_valid = valid_data['target']"
   ]
  },
  {
   "cell_type": "markdown",
   "metadata": {},
   "source": [
    "Обучение модели"
   ]
  },
  {
   "cell_type": "code",
   "execution_count": 20,
   "metadata": {},
   "outputs": [
    {
     "name": "stdout",
     "output_type": "stream",
     "text": [
      "ROC-AUC Score: 0.7155680123381466\n"
     ]
    }
   ],
   "source": [
    "from sklearn.tree import DecisionTreeClassifier\n",
    "\n",
    "# Создание модели\n",
    "model = DecisionTreeClassifier(max_depth=5, random_state=42)\n",
    "\n",
    "# Обучение модели\n",
    "model.fit(X_train, y_train)\n",
    "\n",
    "from sklearn.metrics import roc_auc_score\n",
    "\n",
    "# Предсказание вероятностей классов (не меток)\n",
    "y_pred_proba = model.predict_proba(X_valid)[:, 1]  # Берём вероятности для положительного класса\n",
    "\n",
    "# Вычисление ROC-AUC\n",
    "roc_auc = roc_auc_score(y_valid, y_pred_proba)\n",
    "print(\"ROC-AUC Score:\", roc_auc)"
   ]
  },
  {
   "cell_type": "markdown",
   "metadata": {},
   "source": []
  }
 ],
 "metadata": {
  "kernelspec": {
   "display_name": "Python 3",
   "language": "python",
   "name": "python3"
  },
  "language_info": {
   "codemirror_mode": {
    "name": "ipython",
    "version": 3
   },
   "file_extension": ".py",
   "mimetype": "text/x-python",
   "name": "python",
   "nbconvert_exporter": "python",
   "pygments_lexer": "ipython3",
   "version": "3.12.8"
  }
 },
 "nbformat": 4,
 "nbformat_minor": 2
}
