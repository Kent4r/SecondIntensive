{
 "cells": [
  {
   "cell_type": "markdown",
   "metadata": {},
   "source": [
    "# Описание хода работы"
   ]
  },
  {
   "cell_type": "markdown",
   "metadata": {},
   "source": [
    "Импортим нужные библиотеки"
   ]
  },
  {
   "cell_type": "code",
   "execution_count": 6,
   "metadata": {},
   "outputs": [],
   "source": [
    "import pandas as pd\n",
    "import matplotlib.pyplot as plt\n",
    "from sklearn import metrics\n",
    "from sklearn.preprocessing import StandardScaler\n",
    "from imblearn.over_sampling import SMOTE\n",
    "import xgboost as xgb\n",
    "import warnings\n",
    "\n",
    "warnings.filterwarnings(\"ignore\")"
   ]
  },
  {
   "cell_type": "markdown",
   "metadata": {},
   "source": [
    "Загружаем данные и делаем предобрабку и избавляем отсутствующие значения. Также разбивая датасет на 2 части."
   ]
  },
  {
   "cell_type": "code",
   "execution_count": 7,
   "metadata": {},
   "outputs": [],
   "source": [
    "train_data = pd.read_csv(\"../processed_train.csv\")\n",
    "valid_data = pd.read_csv(\"../valid/processed_valid.csv\")\n",
    "\n",
    "# Предобработка данных\n",
    "def preprocess_data(df):\n",
    "    # Удаляем столбец 'report_date', если он существует\n",
    "    if 'report_date' in df.columns:\n",
    "        df = df.drop(columns='report_date')\n",
    "    \n",
    "    # Удаляем столбцы с большим количеством пропусков\n",
    "    df = df.loc[:, df.isnull().mean() < 0.8]\n",
    "    \n",
    "    # Разделяем данные на классы\n",
    "    df_target_0 = df[df['target'] == 0]\n",
    "    df_target_1 = df[df['target'] == 1]\n",
    "    return df_target_0, df_target_1\n"
   ]
  },
  {
   "cell_type": "markdown",
   "metadata": {},
   "source": [
    "Переводим дату в формат datetime и убираем все нечисловые столбцы. Заполняем пропуски нулями. Объединяем две части датасета в один"
   ]
  },
  {
   "cell_type": "code",
   "execution_count": 8,
   "metadata": {},
   "outputs": [],
   "source": [
    "train_data = train_data.select_dtypes(exclude=[\"object\"])\n",
    "train_data = train_data.fillna(0)\n",
    "df_target_0, df_target_1 = preprocess_data(train_data)\n",
    "\n",
    "valid_data = valid_data.select_dtypes(exclude=[\"object\"])\n",
    "valid_data = valid_data.fillna(0)\n",
    "df_target_2, df_target_3 = preprocess_data(valid_data)"
   ]
  },
  {
   "cell_type": "markdown",
   "metadata": {},
   "source": [
    "Заполнение пропусков с использованием KNN"
   ]
  },
  {
   "cell_type": "code",
   "execution_count": 9,
   "metadata": {},
   "outputs": [
    {
     "name": "stderr",
     "output_type": "stream",
     "text": [
      "c:\\Users\\Виктор\\AppData\\Local\\Programs\\Python\\Python312\\Lib\\site-packages\\fancyimpute\\solver.py:55: UserWarning: Input matrix is not missing any values\n",
      "  warnings.warn(\"Input matrix is not missing any values\")\n",
      "c:\\Users\\Виктор\\AppData\\Local\\Programs\\Python\\Python312\\Lib\\site-packages\\sklearn\\utils\\deprecation.py:151: FutureWarning: 'force_all_finite' was renamed to 'ensure_all_finite' in 1.6 and will be removed in 1.8.\n",
      "  warnings.warn(\n",
      "c:\\Users\\Виктор\\AppData\\Local\\Programs\\Python\\Python312\\Lib\\site-packages\\sklearn\\utils\\deprecation.py:151: FutureWarning: 'force_all_finite' was renamed to 'ensure_all_finite' in 1.6 and will be removed in 1.8.\n",
      "  warnings.warn(\n"
     ]
    },
    {
     "name": "stdout",
     "output_type": "stream",
     "text": [
      "Imputing row 1/14020 with 0 missing, elapsed time: 68.088\n",
      "Imputing row 101/14020 with 0 missing, elapsed time: 68.088\n",
      "Imputing row 201/14020 with 0 missing, elapsed time: 68.088\n",
      "Imputing row 301/14020 with 0 missing, elapsed time: 68.088\n",
      "Imputing row 401/14020 with 0 missing, elapsed time: 68.088\n",
      "Imputing row 501/14020 with 0 missing, elapsed time: 68.089\n",
      "Imputing row 601/14020 with 0 missing, elapsed time: 68.089\n",
      "Imputing row 701/14020 with 0 missing, elapsed time: 68.089\n",
      "Imputing row 801/14020 with 0 missing, elapsed time: 68.089\n",
      "Imputing row 901/14020 with 0 missing, elapsed time: 68.089\n",
      "Imputing row 1001/14020 with 0 missing, elapsed time: 68.089\n",
      "Imputing row 1101/14020 with 0 missing, elapsed time: 68.089\n",
      "Imputing row 1201/14020 with 0 missing, elapsed time: 68.089\n",
      "Imputing row 1301/14020 with 0 missing, elapsed time: 68.090\n",
      "Imputing row 1401/14020 with 0 missing, elapsed time: 68.090\n",
      "Imputing row 1501/14020 with 0 missing, elapsed time: 68.090\n",
      "Imputing row 1601/14020 with 0 missing, elapsed time: 68.090\n",
      "Imputing row 1701/14020 with 0 missing, elapsed time: 68.090\n",
      "Imputing row 1801/14020 with 0 missing, elapsed time: 68.091\n",
      "Imputing row 1901/14020 with 0 missing, elapsed time: 68.091\n",
      "Imputing row 2001/14020 with 0 missing, elapsed time: 68.091\n",
      "Imputing row 2101/14020 with 0 missing, elapsed time: 68.091\n",
      "Imputing row 2201/14020 with 0 missing, elapsed time: 68.091\n",
      "Imputing row 2301/14020 with 0 missing, elapsed time: 68.091\n",
      "Imputing row 2401/14020 with 0 missing, elapsed time: 68.091\n",
      "Imputing row 2501/14020 with 0 missing, elapsed time: 68.091\n",
      "Imputing row 2601/14020 with 0 missing, elapsed time: 68.091\n",
      "Imputing row 2701/14020 with 0 missing, elapsed time: 68.092\n",
      "Imputing row 2801/14020 with 0 missing, elapsed time: 68.092\n",
      "Imputing row 2901/14020 with 0 missing, elapsed time: 68.092\n",
      "Imputing row 3001/14020 with 0 missing, elapsed time: 68.092\n",
      "Imputing row 3101/14020 with 0 missing, elapsed time: 68.092\n",
      "Imputing row 3201/14020 with 0 missing, elapsed time: 68.092\n",
      "Imputing row 3301/14020 with 0 missing, elapsed time: 68.092\n",
      "Imputing row 3401/14020 with 0 missing, elapsed time: 68.092\n",
      "Imputing row 3501/14020 with 0 missing, elapsed time: 68.093\n",
      "Imputing row 3601/14020 with 0 missing, elapsed time: 68.093\n",
      "Imputing row 3701/14020 with 0 missing, elapsed time: 68.093\n",
      "Imputing row 3801/14020 with 0 missing, elapsed time: 68.093\n",
      "Imputing row 3901/14020 with 0 missing, elapsed time: 68.093\n",
      "Imputing row 4001/14020 with 0 missing, elapsed time: 68.093\n",
      "Imputing row 4101/14020 with 0 missing, elapsed time: 68.093\n",
      "Imputing row 4201/14020 with 0 missing, elapsed time: 68.093\n",
      "Imputing row 4301/14020 with 0 missing, elapsed time: 68.093\n",
      "Imputing row 4401/14020 with 0 missing, elapsed time: 68.094\n",
      "Imputing row 4501/14020 with 0 missing, elapsed time: 68.094\n",
      "Imputing row 4601/14020 with 0 missing, elapsed time: 68.094\n",
      "Imputing row 4701/14020 with 0 missing, elapsed time: 68.094\n",
      "Imputing row 4801/14020 with 0 missing, elapsed time: 68.094\n",
      "Imputing row 4901/14020 with 0 missing, elapsed time: 68.094\n",
      "Imputing row 5001/14020 with 0 missing, elapsed time: 68.094\n",
      "Imputing row 5101/14020 with 0 missing, elapsed time: 68.094\n",
      "Imputing row 5201/14020 with 0 missing, elapsed time: 68.095\n",
      "Imputing row 5301/14020 with 0 missing, elapsed time: 68.095\n",
      "Imputing row 5401/14020 with 0 missing, elapsed time: 68.095\n",
      "Imputing row 5501/14020 with 0 missing, elapsed time: 68.095\n",
      "Imputing row 5601/14020 with 0 missing, elapsed time: 68.095\n",
      "Imputing row 5701/14020 with 0 missing, elapsed time: 68.095\n",
      "Imputing row 5801/14020 with 0 missing, elapsed time: 68.095\n",
      "Imputing row 5901/14020 with 0 missing, elapsed time: 68.095\n",
      "Imputing row 6001/14020 with 0 missing, elapsed time: 68.095\n",
      "Imputing row 6101/14020 with 0 missing, elapsed time: 68.095\n",
      "Imputing row 6201/14020 with 0 missing, elapsed time: 68.095\n",
      "Imputing row 6301/14020 with 0 missing, elapsed time: 68.095\n",
      "Imputing row 6401/14020 with 0 missing, elapsed time: 68.095\n",
      "Imputing row 6501/14020 with 0 missing, elapsed time: 68.096\n",
      "Imputing row 6601/14020 with 0 missing, elapsed time: 68.096\n",
      "Imputing row 6701/14020 with 0 missing, elapsed time: 68.096\n",
      "Imputing row 6801/14020 with 0 missing, elapsed time: 68.096\n",
      "Imputing row 6901/14020 with 0 missing, elapsed time: 68.096\n",
      "Imputing row 7001/14020 with 0 missing, elapsed time: 68.096\n",
      "Imputing row 7101/14020 with 0 missing, elapsed time: 68.096\n",
      "Imputing row 7201/14020 with 0 missing, elapsed time: 68.096\n",
      "Imputing row 7301/14020 with 0 missing, elapsed time: 68.097\n",
      "Imputing row 7401/14020 with 0 missing, elapsed time: 68.097\n",
      "Imputing row 7501/14020 with 0 missing, elapsed time: 68.097\n",
      "Imputing row 7601/14020 with 0 missing, elapsed time: 68.097\n",
      "Imputing row 7701/14020 with 0 missing, elapsed time: 68.097\n",
      "Imputing row 7801/14020 with 0 missing, elapsed time: 68.097\n",
      "Imputing row 7901/14020 with 0 missing, elapsed time: 68.097\n",
      "Imputing row 8001/14020 with 0 missing, elapsed time: 68.097\n",
      "Imputing row 8101/14020 with 0 missing, elapsed time: 68.097\n",
      "Imputing row 8201/14020 with 0 missing, elapsed time: 68.098\n",
      "Imputing row 8301/14020 with 0 missing, elapsed time: 68.098\n",
      "Imputing row 8401/14020 with 0 missing, elapsed time: 68.098\n",
      "Imputing row 8501/14020 with 0 missing, elapsed time: 68.098\n",
      "Imputing row 8601/14020 with 0 missing, elapsed time: 68.098\n",
      "Imputing row 8701/14020 with 0 missing, elapsed time: 68.098\n",
      "Imputing row 8801/14020 with 0 missing, elapsed time: 68.098\n",
      "Imputing row 8901/14020 with 0 missing, elapsed time: 68.098\n",
      "Imputing row 9001/14020 with 0 missing, elapsed time: 68.099\n",
      "Imputing row 9101/14020 with 0 missing, elapsed time: 68.099\n",
      "Imputing row 9201/14020 with 0 missing, elapsed time: 68.099\n",
      "Imputing row 9301/14020 with 0 missing, elapsed time: 68.099\n",
      "Imputing row 9401/14020 with 0 missing, elapsed time: 68.099\n",
      "Imputing row 9501/14020 with 0 missing, elapsed time: 68.099\n",
      "Imputing row 9601/14020 with 0 missing, elapsed time: 68.099\n",
      "Imputing row 9701/14020 with 0 missing, elapsed time: 68.099\n",
      "Imputing row 9801/14020 with 0 missing, elapsed time: 68.099\n",
      "Imputing row 9901/14020 with 0 missing, elapsed time: 68.100\n",
      "Imputing row 10001/14020 with 0 missing, elapsed time: 68.100\n",
      "Imputing row 10101/14020 with 0 missing, elapsed time: 68.100\n",
      "Imputing row 10201/14020 with 0 missing, elapsed time: 68.100\n",
      "Imputing row 10301/14020 with 0 missing, elapsed time: 68.100\n",
      "Imputing row 10401/14020 with 0 missing, elapsed time: 68.100\n",
      "Imputing row 10501/14020 with 0 missing, elapsed time: 68.100\n",
      "Imputing row 10601/14020 with 0 missing, elapsed time: 68.100\n",
      "Imputing row 10701/14020 with 0 missing, elapsed time: 68.100\n",
      "Imputing row 10801/14020 with 0 missing, elapsed time: 68.101\n",
      "Imputing row 10901/14020 with 0 missing, elapsed time: 68.101\n",
      "Imputing row 11001/14020 with 0 missing, elapsed time: 68.101\n",
      "Imputing row 11101/14020 with 0 missing, elapsed time: 68.101\n",
      "Imputing row 11201/14020 with 0 missing, elapsed time: 68.101\n",
      "Imputing row 11301/14020 with 0 missing, elapsed time: 68.101\n",
      "Imputing row 11401/14020 with 0 missing, elapsed time: 68.101\n",
      "Imputing row 11501/14020 with 0 missing, elapsed time: 68.101\n",
      "Imputing row 11601/14020 with 0 missing, elapsed time: 68.102\n",
      "Imputing row 11701/14020 with 0 missing, elapsed time: 68.102\n",
      "Imputing row 11801/14020 with 0 missing, elapsed time: 68.102\n",
      "Imputing row 11901/14020 with 0 missing, elapsed time: 68.102\n",
      "Imputing row 12001/14020 with 0 missing, elapsed time: 68.102\n",
      "Imputing row 12101/14020 with 0 missing, elapsed time: 68.102\n",
      "Imputing row 12201/14020 with 0 missing, elapsed time: 68.102\n",
      "Imputing row 12301/14020 with 0 missing, elapsed time: 68.102\n",
      "Imputing row 12401/14020 with 0 missing, elapsed time: 68.102\n",
      "Imputing row 12501/14020 with 0 missing, elapsed time: 68.103\n",
      "Imputing row 12601/14020 with 0 missing, elapsed time: 68.103\n",
      "Imputing row 12701/14020 with 0 missing, elapsed time: 68.103\n",
      "Imputing row 12801/14020 with 0 missing, elapsed time: 68.103\n",
      "Imputing row 12901/14020 with 0 missing, elapsed time: 68.103\n",
      "Imputing row 13001/14020 with 0 missing, elapsed time: 68.103\n",
      "Imputing row 13101/14020 with 0 missing, elapsed time: 68.103\n",
      "Imputing row 13201/14020 with 0 missing, elapsed time: 68.103\n",
      "Imputing row 13301/14020 with 0 missing, elapsed time: 68.103\n",
      "Imputing row 13401/14020 with 0 missing, elapsed time: 68.103\n",
      "Imputing row 13501/14020 with 0 missing, elapsed time: 68.103\n",
      "Imputing row 13601/14020 with 0 missing, elapsed time: 68.103\n",
      "Imputing row 13701/14020 with 0 missing, elapsed time: 68.103\n",
      "Imputing row 13801/14020 with 0 missing, elapsed time: 68.103\n",
      "Imputing row 13901/14020 with 0 missing, elapsed time: 68.105\n",
      "Imputing row 14001/14020 with 0 missing, elapsed time: 68.105\n",
      "Imputing row 1/436 with 0 missing, elapsed time: 0.047\n",
      "Imputing row 101/436 with 0 missing, elapsed time: 0.047\n",
      "Imputing row 201/436 with 0 missing, elapsed time: 0.047\n",
      "Imputing row 301/436 with 0 missing, elapsed time: 0.047\n",
      "Imputing row 401/436 with 0 missing, elapsed time: 0.047\n"
     ]
    },
    {
     "name": "stderr",
     "output_type": "stream",
     "text": [
      "c:\\Users\\Виктор\\AppData\\Local\\Programs\\Python\\Python312\\Lib\\site-packages\\sklearn\\utils\\deprecation.py:151: FutureWarning: 'force_all_finite' was renamed to 'ensure_all_finite' in 1.6 and will be removed in 1.8.\n",
      "  warnings.warn(\n",
      "c:\\Users\\Виктор\\AppData\\Local\\Programs\\Python\\Python312\\Lib\\site-packages\\fancyimpute\\solver.py:55: UserWarning: Input matrix is not missing any values\n",
      "  warnings.warn(\"Input matrix is not missing any values\")\n",
      "c:\\Users\\Виктор\\AppData\\Local\\Programs\\Python\\Python312\\Lib\\site-packages\\sklearn\\utils\\deprecation.py:151: FutureWarning: 'force_all_finite' was renamed to 'ensure_all_finite' in 1.6 and will be removed in 1.8.\n",
      "  warnings.warn(\n",
      "c:\\Users\\Виктор\\AppData\\Local\\Programs\\Python\\Python312\\Lib\\site-packages\\sklearn\\utils\\deprecation.py:151: FutureWarning: 'force_all_finite' was renamed to 'ensure_all_finite' in 1.6 and will be removed in 1.8.\n",
      "  warnings.warn(\n",
      "c:\\Users\\Виктор\\AppData\\Local\\Programs\\Python\\Python312\\Lib\\site-packages\\sklearn\\utils\\deprecation.py:151: FutureWarning: 'force_all_finite' was renamed to 'ensure_all_finite' in 1.6 and will be removed in 1.8.\n",
      "  warnings.warn(\n",
      "c:\\Users\\Виктор\\AppData\\Local\\Programs\\Python\\Python312\\Lib\\site-packages\\fancyimpute\\solver.py:55: UserWarning: Input matrix is not missing any values\n",
      "  warnings.warn(\"Input matrix is not missing any values\")\n",
      "c:\\Users\\Виктор\\AppData\\Local\\Programs\\Python\\Python312\\Lib\\site-packages\\sklearn\\utils\\deprecation.py:151: FutureWarning: 'force_all_finite' was renamed to 'ensure_all_finite' in 1.6 and will be removed in 1.8.\n",
      "  warnings.warn(\n",
      "c:\\Users\\Виктор\\AppData\\Local\\Programs\\Python\\Python312\\Lib\\site-packages\\sklearn\\utils\\deprecation.py:151: FutureWarning: 'force_all_finite' was renamed to 'ensure_all_finite' in 1.6 and will be removed in 1.8.\n",
      "  warnings.warn(\n"
     ]
    },
    {
     "name": "stdout",
     "output_type": "stream",
     "text": [
      "Imputing row 1/3576 with 0 missing, elapsed time: 3.831\n",
      "Imputing row 101/3576 with 0 missing, elapsed time: 3.831\n",
      "Imputing row 201/3576 with 0 missing, elapsed time: 3.831\n",
      "Imputing row 301/3576 with 0 missing, elapsed time: 3.831\n",
      "Imputing row 401/3576 with 0 missing, elapsed time: 3.832\n",
      "Imputing row 501/3576 with 0 missing, elapsed time: 3.832\n",
      "Imputing row 601/3576 with 0 missing, elapsed time: 3.832\n",
      "Imputing row 701/3576 with 0 missing, elapsed time: 3.832\n",
      "Imputing row 801/3576 with 0 missing, elapsed time: 3.832\n",
      "Imputing row 901/3576 with 0 missing, elapsed time: 3.832\n",
      "Imputing row 1001/3576 with 0 missing, elapsed time: 3.832\n",
      "Imputing row 1101/3576 with 0 missing, elapsed time: 3.832\n",
      "Imputing row 1201/3576 with 0 missing, elapsed time: 3.833\n",
      "Imputing row 1301/3576 with 0 missing, elapsed time: 3.833\n",
      "Imputing row 1401/3576 with 0 missing, elapsed time: 3.833\n",
      "Imputing row 1501/3576 with 0 missing, elapsed time: 3.833\n",
      "Imputing row 1601/3576 with 0 missing, elapsed time: 3.833\n",
      "Imputing row 1701/3576 with 0 missing, elapsed time: 3.833\n",
      "Imputing row 1801/3576 with 0 missing, elapsed time: 3.833\n",
      "Imputing row 1901/3576 with 0 missing, elapsed time: 3.833\n",
      "Imputing row 2001/3576 with 0 missing, elapsed time: 3.833\n",
      "Imputing row 2101/3576 with 0 missing, elapsed time: 3.833\n",
      "Imputing row 2201/3576 with 0 missing, elapsed time: 3.833\n",
      "Imputing row 2301/3576 with 0 missing, elapsed time: 3.833\n",
      "Imputing row 2401/3576 with 0 missing, elapsed time: 3.833\n",
      "Imputing row 2501/3576 with 0 missing, elapsed time: 3.834\n",
      "Imputing row 2601/3576 with 0 missing, elapsed time: 3.834\n",
      "Imputing row 2701/3576 with 0 missing, elapsed time: 3.834\n",
      "Imputing row 2801/3576 with 0 missing, elapsed time: 3.834\n",
      "Imputing row 2901/3576 with 0 missing, elapsed time: 3.834\n",
      "Imputing row 3001/3576 with 0 missing, elapsed time: 3.834\n",
      "Imputing row 3101/3576 with 0 missing, elapsed time: 3.834\n",
      "Imputing row 3201/3576 with 0 missing, elapsed time: 3.834\n",
      "Imputing row 3301/3576 with 0 missing, elapsed time: 3.835\n",
      "Imputing row 3401/3576 with 0 missing, elapsed time: 3.835\n",
      "Imputing row 3501/3576 with 0 missing, elapsed time: 3.835\n",
      "Imputing row 1/66 with 0 missing, elapsed time: 0.002\n"
     ]
    },
    {
     "name": "stderr",
     "output_type": "stream",
     "text": [
      "c:\\Users\\Виктор\\AppData\\Local\\Programs\\Python\\Python312\\Lib\\site-packages\\sklearn\\utils\\deprecation.py:151: FutureWarning: 'force_all_finite' was renamed to 'ensure_all_finite' in 1.6 and will be removed in 1.8.\n",
      "  warnings.warn(\n",
      "c:\\Users\\Виктор\\AppData\\Local\\Programs\\Python\\Python312\\Lib\\site-packages\\fancyimpute\\solver.py:55: UserWarning: Input matrix is not missing any values\n",
      "  warnings.warn(\"Input matrix is not missing any values\")\n",
      "c:\\Users\\Виктор\\AppData\\Local\\Programs\\Python\\Python312\\Lib\\site-packages\\sklearn\\utils\\deprecation.py:151: FutureWarning: 'force_all_finite' was renamed to 'ensure_all_finite' in 1.6 and will be removed in 1.8.\n",
      "  warnings.warn(\n",
      "c:\\Users\\Виктор\\AppData\\Local\\Programs\\Python\\Python312\\Lib\\site-packages\\sklearn\\utils\\deprecation.py:151: FutureWarning: 'force_all_finite' was renamed to 'ensure_all_finite' in 1.6 and will be removed in 1.8.\n",
      "  warnings.warn(\n"
     ]
    }
   ],
   "source": [
    "from fancyimpute import KNN\n",
    "df_filled_0 = pd.DataFrame(KNN(k=9).fit_transform(df_target_0), columns=df_target_0.columns)\n",
    "df_filled_1 = pd.DataFrame(KNN(k=9).fit_transform(df_target_1), columns=df_target_1.columns)\n",
    "combined_train = pd.concat([df_filled_0, df_filled_1])\n",
    "\n",
    "df_filled_2 = pd.DataFrame(KNN(k=9).fit_transform(df_target_2), columns=df_target_2.columns)\n",
    "df_filled_3 = pd.DataFrame(KNN(k=9).fit_transform(df_target_3), columns=df_target_3.columns)\n",
    "combined_valid = pd.concat([df_filled_2, df_filled_3])"
   ]
  },
  {
   "cell_type": "markdown",
   "metadata": {},
   "source": [
    "Нормализация данных. Разделение данных на обучающую и тестовую выборки"
   ]
  },
  {
   "cell_type": "code",
   "execution_count": 10,
   "metadata": {},
   "outputs": [
    {
     "name": "stdout",
     "output_type": "stream",
     "text": [
      "Лишние признаки в valid_data: {'col1751', 'col1014', 'col1658', 'col1329', 'col1345', 'col1679', 'col46', 'col505', 'col1425', 'col2561', 'col1005', 'col39', 'col1266', 'col1150', 'col1516', 'col1703', 'col1321', 'col1526', 'col1697', 'col7', 'col1277', 'col489', 'col2549', 'col36', 'col2439', 'col481', 'col1385', 'col501', 'col1257', 'col485', 'col27', 'col1727', 'col1704', 'col2584', 'col989', 'col509', 'col15', 'col1775', 'col110', 'col230', 'col1365', 'col1401', 'col31', 'col1269', 'col1265', 'col235', 'col1317', 'col1262', 'col1799', 'col35', 'col1684', 'col2297', 'col1278', 'col1274', 'col1301', 'col2367', 'col8'}\n",
      "Отсутствующие признаки в valid_data: {'col965', 'col1', 'col1708', 'col33', 'col109', 'col229', 'col1013', 'col1189', 'col3', 'col5', 'col1330', 'col25', 'col261', 'col1682', 'col1661', 'col1778', 'col1193', 'col29', 'col1706', 'col1807', 'col2575', 'col47'}\n"
     ]
    },
    {
     "name": "stderr",
     "output_type": "stream",
     "text": [
      "c:\\Users\\Виктор\\AppData\\Local\\Programs\\Python\\Python312\\Lib\\site-packages\\sklearn\\base.py:474: FutureWarning: `BaseEstimator._validate_data` is deprecated in 1.6 and will be removed in 1.7. Use `sklearn.utils.validation.validate_data` instead. This function becomes public and is part of the scikit-learn developer API.\n",
      "  warnings.warn(\n",
      "c:\\Users\\Виктор\\AppData\\Local\\Programs\\Python\\Python312\\Lib\\site-packages\\sklearn\\utils\\_tags.py:354: FutureWarning: The SMOTE or classes from which it inherits use `_get_tags` and `_more_tags`. Please define the `__sklearn_tags__` method, or inherit from `sklearn.base.BaseEstimator` and/or other appropriate mixins such as `sklearn.base.TransformerMixin`, `sklearn.base.ClassifierMixin`, `sklearn.base.RegressorMixin`, and `sklearn.base.OutlierMixin`. From scikit-learn 1.7, not defining `__sklearn_tags__` will raise an error.\n",
      "  warnings.warn(\n"
     ]
    }
   ],
   "source": [
    "X_train = combined_train.drop(columns='target')\n",
    "y_train = combined_train['target']\n",
    "\n",
    "X_valid = combined_valid.drop(columns='target')\n",
    "y_valid = combined_valid['target']\n",
    "\n",
    "# Убедитесь, что признаки в X_valid совпадают с X_train\n",
    "train_features = X_train.columns\n",
    "extra_features = set(X_valid.columns) - set(train_features)\n",
    "if extra_features:\n",
    "    print(f\"Лишние признаки в valid_data: {extra_features}\")\n",
    "    # Удаляем лишние признаки из X_valid\n",
    "    X_valid = X_valid.drop(columns=extra_features)\n",
    "\n",
    "missing_features = set(train_features) - set(X_valid.columns)\n",
    "if missing_features:\n",
    "    print(f\"Отсутствующие признаки в valid_data: {missing_features}\")\n",
    "    # Добавляем отсутствующие признаки в X_valid с нулевыми значениями\n",
    "    for feature in missing_features:\n",
    "        X_valid[feature] = 0\n",
    "\n",
    "# Упорядочиваем признаки в X_valid, чтобы они совпадали с X_train\n",
    "X_valid = X_valid[train_features]\n",
    "\n",
    "# Масштабирование данных\n",
    "scaler = StandardScaler()\n",
    "X_train = scaler.fit_transform(X_train)\n",
    "X_valid = scaler.transform(X_valid)  # Масштабируем валидационные данные с помощью обученного scaler\n",
    "\n",
    "# Балансировка классов с помощью SMOTE\n",
    "smote = SMOTE(random_state=42)\n",
    "X_train, y_train = smote.fit_resample(X_train, y_train)"
   ]
  },
  {
   "cell_type": "markdown",
   "metadata": {},
   "source": [
    "Обучение модели Градиентный бустинг (Gradient Boosting)"
   ]
  },
  {
   "cell_type": "code",
   "execution_count": 11,
   "metadata": {},
   "outputs": [
    {
     "name": "stdout",
     "output_type": "stream",
     "text": [
      "AUC на валидационных данных (XGBoost): 0.733\n"
     ]
    }
   ],
   "source": [
    "xgb_model = xgb.XGBClassifier(\n",
    "    n_estimators=100,  # Количество деревьев\n",
    "    max_depth=5,       # Максимальная глубина дерева\n",
    "    learning_rate=0.1, # Скорость обучения\n",
    "    random_state=42\n",
    ")\n",
    "xgb_model.fit(X_train, y_train)\n",
    "\n",
    "y_valid_pred_proba = xgb_model.predict_proba(X_valid)[:, 1]\n",
    "fpr_valid, tpr_valid, _ = metrics.roc_curve(y_valid, y_valid_pred_proba)\n",
    "auc_valid = metrics.roc_auc_score(y_valid, y_valid_pred_proba)\n",
    "print(f\"AUC на валидационных данных (XGBoost): {auc_valid:.3f}\")"
   ]
  },
  {
   "cell_type": "markdown",
   "metadata": {},
   "source": [
    "Построение ROC-кривой с использованием matplotlib"
   ]
  },
  {
   "cell_type": "code",
   "execution_count": 12,
   "metadata": {},
   "outputs": [
    {
     "data": {
      "image/png": "[encoded data removed]",
      "text/plain": [
       "<Figure size 640x480 with 1 Axes>"
      ]
     },
     "metadata": {},
     "output_type": "display_data"
    }
   ],
   "source": [
    "plt.plot(fpr_valid, tpr_valid, label=f'AUC = {auc_valid:.3f}')\n",
    "plt.plot([0, 1], [0, 1], linestyle='--', color='gray', label='Random')\n",
    "plt.xlabel('False Positive Rate')\n",
    "plt.ylabel('True Positive Rate')\n",
    "plt.title('ROC Curve на валидационных данных (XGBoost)')\n",
    "plt.legend()\n",
    "plt.show()"
   ]
  }
 ],
 "metadata": {
  "kernelspec": {
   "display_name": "Python 3",
   "language": "python",
   "name": "python3"
  },
  "language_info": {
   "codemirror_mode": {
    "name": "ipython",
    "version": 3
   },
   "file_extension": ".py",
   "mimetype": "text/x-python",
   "name": "python",
   "nbconvert_exporter": "python",
   "pygments_lexer": "ipython3",
   "version": "3.12.0"
  }
 },
 "nbformat": 4,
 "nbformat_minor": 2
}
