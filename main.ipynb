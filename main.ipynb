{
 "cells": [
  {
   "cell_type": "markdown",
   "metadata": {},
   "source": [
    "# **Полный файл для анализа, обработки данных.</br>Обучение модели, оптимизация параметров и метрика.**"
   ]
  },
  {
   "cell_type": "markdown",
   "metadata": {},
   "source": [
    "### Импорт всех необходимых библиотек"
   ]
  },
  {
   "cell_type": "code",
   "execution_count": 172,
   "metadata": {},
   "outputs": [],
   "source": [
    "import pandas as pd # Для работы с данными\n",
    "import numpy as np # Для мат алгоритмов с данными\n",
    "import re # Для отделения col и номера\n",
    "import missingno as msn # График для проверки наполненности данных\n",
    "import matplotlib.pyplot as plt # Для работы с графиками\n",
    "import warnings # Игнор предупреждений, чтобы вывод выглядел +- красиво\n",
    "warnings.filterwarnings(\"ignore\")\n",
    "from fancyimpute import KNN # Алгоритм для заполнения данных\n",
    "from sklearn.ensemble import RandomForestClassifier # Классификационная модель\n",
    "from sklearn import metrics # ROC-AUC метрики"
   ]
  },
  {
   "cell_type": "markdown",
   "metadata": {},
   "source": [
    "### Загружаем исходные данные для обработки"
   ]
  },
  {
   "cell_type": "code",
   "execution_count": 173,
   "metadata": {},
   "outputs": [],
   "source": [
    "train_df = pd.read_csv(\"train.csv\")\n",
    "valid_df = pd.read_csv(\"valid.csv\")"
   ]
  },
  {
   "cell_type": "markdown",
   "metadata": {},
   "source": [
    "### Анализ"
   ]
  },
  {
   "cell_type": "code",
   "execution_count": 144,
   "metadata": {},
   "outputs": [
    {
     "data": {
      "text/plain": [
       "(14456, 17)"
      ]
     },
     "execution_count": 144,
     "metadata": {},
     "output_type": "execute_result"
    }
   ],
   "source": [
    "train_df.shape"
   ]
  },
  {
   "cell_type": "code",
   "execution_count": 174,
   "metadata": {},
   "outputs": [
    {
     "name": "stdout",
     "output_type": "stream",
     "text": [
      "<class 'pandas.core.frame.DataFrame'>\n",
      "RangeIndex: 14456 entries, 0 to 14455\n",
      "Columns: 2666 entries, report_date to col2663\n",
      "dtypes: float64(2316), int64(3), object(347)\n",
      "memory usage: 294.0+ MB\n"
     ]
    }
   ],
   "source": [
    "train_df.info()"
   ]
  },
  {
   "cell_type": "code",
   "execution_count": 152,
   "metadata": {},
   "outputs": [],
   "source": [
    "types = train_df.dtypes\n",
    "train_df = train_df.T.drop_duplicates().T\n",
    "train_df = train_df.astype(types[train_df.columns])"
   ]
  },
  {
   "cell_type": "code",
   "execution_count": null,
   "metadata": {},
   "outputs": [],
   "source": [
    "temp_df = train_df.loc[:, ((train_df.isnull())).mean() < 0.8]\n",
    "msn.bar(temp_df, fontsize=10, color=(1, 0.75, 0.8))"
   ]
  },
  {
   "cell_type": "markdown",
   "metadata": {},
   "source": [
    "Выводим в txt файлы уникальные значения каждого типа, чтобы виднее было, как объединять данные</br>\n",
    "Либо загружаем датасеты в PowerBI/Excel и смотрим там значения по колонкам</br>\n",
    "В результате анализа обнаружаем, что колонки с похожими значениями стоят рядом,</br>\n",
    "значит колонки, значащие один параметр, заранее сгруппированы, осталось их только соединить</br>\n",
    "и проанализировать результат соединения, сколько колонок соединилось и насколько увеличилась наполненность."
   ]
  },
  {
   "cell_type": "markdown",
   "metadata": {},
   "source": [
    "### Создаём функцию для одинаковой обрабокти ДатаФреймов. На основе анализа конечно."
   ]
  },
  {
   "cell_type": "code",
   "execution_count": 175,
   "metadata": {},
   "outputs": [],
   "source": [
    "def process(df, is_valid=False):\n",
    "    df.dropna(how='all', axis=1, inplace=True) # Удаляем полностью пустые колонки\n",
    "    df.drop_duplicates() # Избавляемся от дупликатов\n",
    "\n",
    "    df = df.select_dtypes(exclude=['object'])\n",
    "    # Удаляем все строковые колонки, так как при анализе выяснилось, что:\n",
    "    # 1. В них мало данных\n",
    "    # 2. Трудно обучить на них модель, так как она принимает числовые значения\n",
    "\n",
    "    # Алгоритм для перевода всех возможных колонок в INT64, для более удобной раздельной обработки\n",
    "    float_columns = df.select_dtypes(include=np.number).columns\n",
    "    for col in float_columns:\n",
    "        temp = df[col].fillna(0)\n",
    "        if temp.apply(lambda x: x == int(x)).all():\n",
    "            df[col] = df[col].astype(\"Int64\")\n",
    "    df = df.loc[:, (df != 0).any(axis=0)]\n",
    "\n",
    "    # Разбиваем ДатаФрейм на Float и Int части\n",
    "    df_float = df.select_dtypes(include=[\"float64\"])\n",
    "    df_int = df.select_dtypes(include=[\"int64\"])\n",
    "    df_int = df_int.astype(float)\n",
    "\n",
    "    # Сносим все нежелательные данные для обработки\n",
    "    df_float.replace([\"nan\", np.float64(0.0), np.float64(1.0)], np.nan, inplace=True)\n",
    "    df_int = df_int.drop([\"client_id\",\"target\"],axis=1)\n",
    "    df_int.replace(\"nan\",np.nan, inplace=True)\n",
    "\n",
    "    # Merge колонок\n",
    "    def merge_columns_with_common_values(df, temp_col):\n",
    "        base_toggle = True # Свитч для правильного старта\n",
    "        unique_columns = [] # Запись о пройденных колонках\n",
    "        column_groups = {} # Группы для объединения\n",
    "\n",
    "        for col in df.columns:\n",
    "            if col in unique_columns: continue # Если колонка была обработана, переход к следующей\n",
    "\n",
    "            if col != df.columns[1]: base_toggle = False # Стартовый свитч\n",
    "\n",
    "            column_groups[col] = [col] # Инициализация группы объединённых колонок\n",
    "\n",
    "            for next_col in df.columns: # Пробежка по следующим колонкам\n",
    "                if col == next_col or next_col in unique_columns: continue\n",
    "\n",
    "                common_values = list(set(df[col].unique()).intersection(set(df[next_col].unique()))) # Нахождение одинаковых значений между колонками\n",
    "                if np.nan in common_values: common_values.remove(np.nan) # Выбрас nan из одинаковых значений\n",
    "\n",
    "                match = re.match(r\"([a-zA-Z]+)(\\d{1,4})\", col) # Индекс текущей колонки\n",
    "                match1 = re.match(r\"([a-zA-Z]+)(\\d{1,4})\", next_col) # Индекс следующей колонки\n",
    "                def calc_jump():\n",
    "                    if base_toggle:return False # Правильный старт\n",
    "                    else:\n",
    "                        match = re.match(r\"([a-zA-Z]+)(\\d{1,4})\", temp_col) # Перерасчет индекса по последней колонке в группе\n",
    "                        is_jump = (int(match1.group(2)) - int(match.group(2))) > 5 # Высчитываем, есть ли прыжок\n",
    "                        return is_jump\n",
    "\n",
    "                if (len(common_values) >= 1): # Если есть общие значения\n",
    "                    if calc_jump(): # Высчитываем, есть ли прыжок между индексами колонок более, чем на 5\n",
    "                        temp_col = next_col\n",
    "                        break # Есть прыжок, закрываем группу\n",
    "                    temp_col = next_col # Следующая колонка становится последней в группе\n",
    "                    column_groups[col].append(next_col) # Добавление колонки в группу для объединения\n",
    "                    unique_columns.append(next_col) # Добавление колонки в уникальные\n",
    "                    # print(f\"Merged {col} and {next_col}: common_values = {common_values}\") # Тут был лишний вывод для отладки\n",
    "                else:\n",
    "                    if calc_jump(): # Если же не было общих значений, ищем их между последней в группе и следующей, не забываем про возможность прыжка\n",
    "                        temp_col = next_col\n",
    "                        break # Есть прыжок, закрываем группу\n",
    "                    common_values = list(set(df[temp_col].unique()).intersection(set(df[next_col].unique())))\n",
    "                    if len(common_values) >= 1:\n",
    "                        temp_col = next_col\n",
    "                        column_groups[col].append(next_col)\n",
    "                        unique_columns.append(next_col)\n",
    "                        # print(f\"Merged {col} and {next_col}: common_values = {common_values}\")\n",
    "                    else:break # Это выполняется в случае, когда появляется уникальная колонка, группа окончена\n",
    "\n",
    "            unique_columns.append(col) # Добавляем колонку в список уникальных\n",
    "\n",
    "        # Цикл для Merge групп\n",
    "        for group_name, group_columns in column_groups.items():\n",
    "            if len(group_columns) > 1:\n",
    "                df[group_name] = (df[group_columns].bfill(axis=1).iloc[:, 0])\n",
    "                # print(f\"Merged columns {group_columns} into {group_name}\")\n",
    "            else:\n",
    "                df[group_name] = df[group_columns[0]]\n",
    "\n",
    "        df = df[[col for col in df.columns if col in column_groups]]\n",
    "\n",
    "        return df\n",
    "\n",
    "    # Вызываем функцию, описанную выше и получаем сMerge'нные ДатаФреймы\n",
    "    df_int = merge_columns_with_common_values(df_int, \"col2\")\n",
    "    df_float = merge_columns_with_common_values(df_float, \"col4\")\n",
    "\n",
    "    # Запихиваем получившееся в один датафрейм\n",
    "    df_not_sorted = pd.concat([df['client_id'], df['target'], df_int, df_float],axis=1)\n",
    "\n",
    "    # Сортируем ДатаФрейм\n",
    "    order_dict = {}\n",
    "    order_list = ['client_id','target']\n",
    "    columns = df_not_sorted.columns\n",
    "    for column in columns:\n",
    "        if 'col' in column:\n",
    "            order_dict[column] = int(re.match(r\"([a-zA-Z]+)(\\d{1,4})\", column).group(2))\n",
    "    sorted_columns = {k: v for k, v in sorted(order_dict.items(), key=lambda item: item[1])}\n",
    "    for k in sorted_columns: order_list.append(k)\n",
    "    df = df_not_sorted[order_list]\n",
    "\n",
    "    # Наполняем данные алгоритмом kNN\n",
    "    if not is_valid: df = df.drop(columns=['col2295', 'col2543', 'col2575'])\n",
    "    df = df.loc[:, ((df.isnull())).mean() < 0.8] # Дропаем, где наполненность менее 20%\n",
    "    # Разделяем\n",
    "    df_target_0 = df[df['target'] == 0]\n",
    "    df_target_1 = df[df['target'] == 1]\n",
    "    # Заполняем отдельно\n",
    "    df_filled_0 = pd.DataFrame(KNN(k=6).fit_transform(df_target_0), columns=df_target_0.columns)\n",
    "    df_filled_1 = pd.DataFrame(KNN(k=6).fit_transform(df_target_1), columns=df_target_1.columns)\n",
    "    # if not is_valid: df_filled_0 = df_filled_0.sample(n=len(df_target_1), random_state=42)\n",
    "    # Соединяем\n",
    "    df = pd.concat([df_filled_0, df_filled_1])\n",
    "\n",
    "    return df\n"
   ]
  },
  {
   "cell_type": "markdown",
   "metadata": {},
   "source": [
    "### Вызываем этот огромный пласт кода"
   ]
  },
  {
   "cell_type": "code",
   "execution_count": 176,
   "metadata": {},
   "outputs": [
    {
     "name": "stdout",
     "output_type": "stream",
     "text": [
      "Imputing row 1/14020 with 6 missing, elapsed time: 15.798\n",
      "Imputing row 101/14020 with 3 missing, elapsed time: 15.812\n",
      "Imputing row 201/14020 with 6 missing, elapsed time: 15.825\n",
      "Imputing row 301/14020 with 3 missing, elapsed time: 15.837\n",
      "Imputing row 401/14020 with 4 missing, elapsed time: 15.849\n",
      "Imputing row 501/14020 with 4 missing, elapsed time: 15.860\n",
      "Imputing row 601/14020 with 7 missing, elapsed time: 15.872\n",
      "Imputing row 701/14020 with 7 missing, elapsed time: 15.886\n",
      "Imputing row 801/14020 with 3 missing, elapsed time: 15.901\n",
      "Imputing row 901/14020 with 3 missing, elapsed time: 15.916\n",
      "Imputing row 1001/14020 with 3 missing, elapsed time: 15.930\n",
      "Imputing row 1101/14020 with 0 missing, elapsed time: 15.943\n",
      "Imputing row 1201/14020 with 3 missing, elapsed time: 15.955\n",
      "Imputing row 1301/14020 with 6 missing, elapsed time: 15.967\n",
      "Imputing row 1401/14020 with 3 missing, elapsed time: 15.979\n",
      "Imputing row 1501/14020 with 6 missing, elapsed time: 15.991\n",
      "Imputing row 1601/14020 with 4 missing, elapsed time: 16.005\n",
      "Imputing row 1701/14020 with 3 missing, elapsed time: 16.016\n",
      "Imputing row 1801/14020 with 0 missing, elapsed time: 16.031\n",
      "Imputing row 1901/14020 with 7 missing, elapsed time: 16.043\n",
      "Imputing row 2001/14020 with 3 missing, elapsed time: 16.055\n",
      "Imputing row 2101/14020 with 5 missing, elapsed time: 16.067\n",
      "Imputing row 2201/14020 with 0 missing, elapsed time: 16.078\n",
      "Imputing row 2301/14020 with 0 missing, elapsed time: 16.091\n",
      "Imputing row 2401/14020 with 3 missing, elapsed time: 16.104\n",
      "Imputing row 2501/14020 with 7 missing, elapsed time: 16.115\n",
      "Imputing row 2601/14020 with 3 missing, elapsed time: 16.128\n",
      "Imputing row 2701/14020 with 6 missing, elapsed time: 16.141\n",
      "Imputing row 2801/14020 with 3 missing, elapsed time: 16.153\n",
      "Imputing row 2901/14020 with 1 missing, elapsed time: 16.166\n",
      "Imputing row 3001/14020 with 4 missing, elapsed time: 16.178\n",
      "Imputing row 3101/14020 with 6 missing, elapsed time: 16.192\n",
      "Imputing row 3201/14020 with 6 missing, elapsed time: 16.205\n",
      "Imputing row 3301/14020 with 2 missing, elapsed time: 16.217\n",
      "Imputing row 3401/14020 with 3 missing, elapsed time: 16.230\n",
      "Imputing row 3501/14020 with 1 missing, elapsed time: 16.244\n",
      "Imputing row 3601/14020 with 6 missing, elapsed time: 16.256\n",
      "Imputing row 3701/14020 with 3 missing, elapsed time: 16.268\n",
      "Imputing row 3801/14020 with 6 missing, elapsed time: 16.280\n",
      "Imputing row 3901/14020 with 3 missing, elapsed time: 16.290\n",
      "Imputing row 4001/14020 with 7 missing, elapsed time: 16.301\n",
      "Imputing row 4101/14020 with 4 missing, elapsed time: 16.313\n",
      "Imputing row 4201/14020 with 3 missing, elapsed time: 16.325\n",
      "Imputing row 4301/14020 with 3 missing, elapsed time: 16.337\n",
      "Imputing row 4401/14020 with 0 missing, elapsed time: 16.349\n",
      "Imputing row 4501/14020 with 3 missing, elapsed time: 16.361\n",
      "Imputing row 4601/14020 with 2 missing, elapsed time: 16.374\n",
      "Imputing row 4701/14020 with 3 missing, elapsed time: 16.385\n",
      "Imputing row 4801/14020 with 3 missing, elapsed time: 16.397\n",
      "Imputing row 4901/14020 with 6 missing, elapsed time: 16.409\n",
      "Imputing row 5001/14020 with 6 missing, elapsed time: 16.423\n",
      "Imputing row 5101/14020 with 4 missing, elapsed time: 16.438\n",
      "Imputing row 5201/14020 with 0 missing, elapsed time: 16.451\n",
      "Imputing row 5301/14020 with 3 missing, elapsed time: 16.465\n",
      "Imputing row 5401/14020 with 3 missing, elapsed time: 16.478\n",
      "Imputing row 5501/14020 with 6 missing, elapsed time: 16.490\n",
      "Imputing row 5601/14020 with 3 missing, elapsed time: 16.502\n",
      "Imputing row 5701/14020 with 7 missing, elapsed time: 16.515\n",
      "Imputing row 5801/14020 with 3 missing, elapsed time: 16.528\n",
      "Imputing row 5901/14020 with 6 missing, elapsed time: 16.541\n",
      "Imputing row 6001/14020 with 6 missing, elapsed time: 16.554\n",
      "Imputing row 6101/14020 with 3 missing, elapsed time: 16.568\n",
      "Imputing row 6201/14020 with 3 missing, elapsed time: 16.578\n",
      "Imputing row 6301/14020 with 6 missing, elapsed time: 16.590\n",
      "Imputing row 6401/14020 with 3 missing, elapsed time: 16.603\n",
      "Imputing row 6501/14020 with 3 missing, elapsed time: 16.616\n",
      "Imputing row 6601/14020 with 6 missing, elapsed time: 16.627\n",
      "Imputing row 6701/14020 with 0 missing, elapsed time: 16.639\n",
      "Imputing row 6801/14020 with 3 missing, elapsed time: 16.652\n",
      "Imputing row 6901/14020 with 7 missing, elapsed time: 16.666\n",
      "Imputing row 7001/14020 with 0 missing, elapsed time: 16.677\n",
      "Imputing row 7101/14020 with 3 missing, elapsed time: 16.690\n",
      "Imputing row 7201/14020 with 0 missing, elapsed time: 16.702\n",
      "Imputing row 7301/14020 with 3 missing, elapsed time: 16.714\n",
      "Imputing row 7401/14020 with 0 missing, elapsed time: 16.727\n",
      "Imputing row 7501/14020 with 3 missing, elapsed time: 16.740\n",
      "Imputing row 7601/14020 with 3 missing, elapsed time: 16.752\n",
      "Imputing row 7701/14020 with 3 missing, elapsed time: 16.766\n",
      "Imputing row 7801/14020 with 0 missing, elapsed time: 16.778\n",
      "Imputing row 7901/14020 with 3 missing, elapsed time: 16.789\n",
      "Imputing row 8001/14020 with 3 missing, elapsed time: 16.801\n",
      "Imputing row 8101/14020 with 3 missing, elapsed time: 16.813\n",
      "Imputing row 8201/14020 with 6 missing, elapsed time: 16.827\n",
      "Imputing row 8301/14020 with 3 missing, elapsed time: 16.840\n",
      "Imputing row 8401/14020 with 4 missing, elapsed time: 16.853\n",
      "Imputing row 8501/14020 with 3 missing, elapsed time: 16.866\n",
      "Imputing row 8601/14020 with 4 missing, elapsed time: 16.880\n",
      "Imputing row 8701/14020 with 7 missing, elapsed time: 16.894\n",
      "Imputing row 8801/14020 with 3 missing, elapsed time: 16.907\n",
      "Imputing row 8901/14020 with 6 missing, elapsed time: 16.920\n",
      "Imputing row 9001/14020 with 3 missing, elapsed time: 16.932\n",
      "Imputing row 9101/14020 with 4 missing, elapsed time: 16.944\n",
      "Imputing row 9201/14020 with 7 missing, elapsed time: 16.956\n",
      "Imputing row 9301/14020 with 6 missing, elapsed time: 16.968\n",
      "Imputing row 9401/14020 with 6 missing, elapsed time: 16.981\n",
      "Imputing row 9501/14020 with 3 missing, elapsed time: 16.993\n",
      "Imputing row 9601/14020 with 3 missing, elapsed time: 17.005\n",
      "Imputing row 9701/14020 with 3 missing, elapsed time: 17.017\n",
      "Imputing row 9801/14020 with 4 missing, elapsed time: 17.029\n",
      "Imputing row 9901/14020 with 0 missing, elapsed time: 17.041\n",
      "Imputing row 10001/14020 with 7 missing, elapsed time: 17.054\n",
      "Imputing row 10101/14020 with 3 missing, elapsed time: 17.066\n",
      "Imputing row 10201/14020 with 0 missing, elapsed time: 17.078\n",
      "Imputing row 10301/14020 with 0 missing, elapsed time: 17.091\n",
      "Imputing row 10401/14020 with 7 missing, elapsed time: 17.102\n",
      "Imputing row 10501/14020 with 3 missing, elapsed time: 17.115\n",
      "Imputing row 10601/14020 with 0 missing, elapsed time: 17.128\n",
      "Imputing row 10701/14020 with 6 missing, elapsed time: 17.140\n",
      "Imputing row 10801/14020 with 6 missing, elapsed time: 17.151\n",
      "Imputing row 10901/14020 with 7 missing, elapsed time: 17.165\n",
      "Imputing row 11001/14020 with 3 missing, elapsed time: 17.177\n",
      "Imputing row 11101/14020 with 7 missing, elapsed time: 17.190\n",
      "Imputing row 11201/14020 with 6 missing, elapsed time: 17.202\n",
      "Imputing row 11301/14020 with 3 missing, elapsed time: 17.215\n",
      "Imputing row 11401/14020 with 7 missing, elapsed time: 17.228\n",
      "Imputing row 11501/14020 with 0 missing, elapsed time: 17.242\n",
      "Imputing row 11601/14020 with 0 missing, elapsed time: 17.254\n",
      "Imputing row 11701/14020 with 3 missing, elapsed time: 17.266\n",
      "Imputing row 11801/14020 with 4 missing, elapsed time: 17.278\n",
      "Imputing row 11901/14020 with 3 missing, elapsed time: 17.292\n",
      "Imputing row 12001/14020 with 3 missing, elapsed time: 17.305\n",
      "Imputing row 12101/14020 with 3 missing, elapsed time: 17.318\n",
      "Imputing row 12201/14020 with 4 missing, elapsed time: 17.333\n",
      "Imputing row 12301/14020 with 6 missing, elapsed time: 17.346\n",
      "Imputing row 12401/14020 with 3 missing, elapsed time: 17.358\n",
      "Imputing row 12501/14020 with 1 missing, elapsed time: 17.370\n",
      "Imputing row 12601/14020 with 0 missing, elapsed time: 17.380\n",
      "Imputing row 12701/14020 with 3 missing, elapsed time: 17.391\n",
      "Imputing row 12801/14020 with 4 missing, elapsed time: 17.404\n",
      "Imputing row 12901/14020 with 3 missing, elapsed time: 17.416\n",
      "Imputing row 13001/14020 with 3 missing, elapsed time: 17.430\n",
      "Imputing row 13101/14020 with 4 missing, elapsed time: 17.441\n",
      "Imputing row 13201/14020 with 3 missing, elapsed time: 17.453\n",
      "Imputing row 13301/14020 with 7 missing, elapsed time: 17.465\n",
      "Imputing row 13401/14020 with 6 missing, elapsed time: 17.477\n",
      "Imputing row 13501/14020 with 4 missing, elapsed time: 17.491\n",
      "Imputing row 13601/14020 with 6 missing, elapsed time: 17.506\n",
      "Imputing row 13701/14020 with 3 missing, elapsed time: 17.519\n",
      "Imputing row 13801/14020 with 7 missing, elapsed time: 17.533\n",
      "Imputing row 13901/14020 with 5 missing, elapsed time: 17.545\n",
      "Imputing row 14001/14020 with 0 missing, elapsed time: 17.559\n",
      "Imputing row 1/436 with 3 missing, elapsed time: 0.017\n",
      "Imputing row 101/436 with 4 missing, elapsed time: 0.018\n",
      "Imputing row 201/436 with 1 missing, elapsed time: 0.020\n",
      "Imputing row 301/436 with 4 missing, elapsed time: 0.022\n",
      "Imputing row 401/436 with 6 missing, elapsed time: 0.024\n",
      "Imputing row 1/3576 with 9 missing, elapsed time: 1.573\n",
      "Imputing row 101/3576 with 18 missing, elapsed time: 1.589\n",
      "Imputing row 201/3576 with 11 missing, elapsed time: 1.604\n",
      "Imputing row 301/3576 with 19 missing, elapsed time: 1.619\n",
      "Imputing row 401/3576 with 15 missing, elapsed time: 1.636\n",
      "Imputing row 501/3576 with 4 missing, elapsed time: 1.652\n",
      "Imputing row 601/3576 with 9 missing, elapsed time: 1.669\n",
      "Imputing row 701/3576 with 22 missing, elapsed time: 1.696\n",
      "Imputing row 801/3576 with 1 missing, elapsed time: 1.724\n",
      "Imputing row 901/3576 with 0 missing, elapsed time: 1.753\n",
      "Imputing row 1001/3576 with 17 missing, elapsed time: 1.778\n",
      "Imputing row 1101/3576 with 18 missing, elapsed time: 1.804\n",
      "Imputing row 1201/3576 with 15 missing, elapsed time: 1.821\n",
      "Imputing row 1301/3576 with 15 missing, elapsed time: 1.837\n",
      "Imputing row 1401/3576 with 18 missing, elapsed time: 1.854\n",
      "Imputing row 1501/3576 with 0 missing, elapsed time: 1.872\n",
      "Imputing row 1601/3576 with 8 missing, elapsed time: 1.888\n",
      "Imputing row 1701/3576 with 15 missing, elapsed time: 1.906\n",
      "Imputing row 1801/3576 with 10 missing, elapsed time: 1.922\n",
      "Imputing row 1901/3576 with 18 missing, elapsed time: 1.939\n",
      "Imputing row 2001/3576 with 9 missing, elapsed time: 1.954\n",
      "Imputing row 2101/3576 with 23 missing, elapsed time: 1.971\n",
      "Imputing row 2201/3576 with 18 missing, elapsed time: 1.989\n",
      "Imputing row 2301/3576 with 9 missing, elapsed time: 2.006\n",
      "Imputing row 2401/3576 with 18 missing, elapsed time: 2.023\n",
      "Imputing row 2501/3576 with 14 missing, elapsed time: 2.042\n",
      "Imputing row 2601/3576 with 22 missing, elapsed time: 2.059\n",
      "Imputing row 2701/3576 with 20 missing, elapsed time: 2.075\n",
      "Imputing row 2801/3576 with 13 missing, elapsed time: 2.091\n",
      "Imputing row 2901/3576 with 10 missing, elapsed time: 2.110\n",
      "Imputing row 3001/3576 with 18 missing, elapsed time: 2.125\n",
      "Imputing row 3101/3576 with 20 missing, elapsed time: 2.141\n",
      "Imputing row 3201/3576 with 9 missing, elapsed time: 2.158\n",
      "Imputing row 3301/3576 with 22 missing, elapsed time: 2.176\n",
      "Imputing row 3401/3576 with 18 missing, elapsed time: 2.193\n",
      "Imputing row 3501/3576 with 15 missing, elapsed time: 2.209\n",
      "Imputing row 1/66 with 17 missing, elapsed time: 0.001\n"
     ]
    }
   ],
   "source": [
    "train_df = process(train_df)\n",
    "valid_df = process(valid_df, True)\n",
    "valid_df = valid_df[train_df.columns]"
   ]
  },
  {
   "cell_type": "markdown",
   "metadata": {},
   "source": [
    "### Обучение модели и метрика ROC-AUC"
   ]
  },
  {
   "cell_type": "code",
   "execution_count": 177,
   "metadata": {},
   "outputs": [
    {
     "data": {
      "image/png": "[encoded data removed]",
      "text/plain": [
       "<Figure size 640x480 with 1 Axes>"
      ]
     },
     "metadata": {},
     "output_type": "display_data"
    },
    {
     "name": "stdout",
     "output_type": "stream",
     "text": [
      "AUC: 0.897\n"
     ]
    }
   ],
   "source": [
    "# Загрузка Данных\n",
    "X_train = train_df.drop(columns='target')\n",
    "y_train = train_df['target']\n",
    "X_test = valid_df.drop(columns='target')\n",
    "y_test = valid_df['target']\n",
    "\n",
    "# инициализация и обучение модели\n",
    "rf_classifier = RandomForestClassifier(min_samples_leaf = 7, n_estimators = 35, random_state=384)\n",
    "rf_classifier.fit(X_train, y_train)\n",
    "\n",
    "# предсказание вероятностей\n",
    "y_pred_proba = rf_classifier.predict_proba(X_test)[:,1]\n",
    "\n",
    "fpr, tpr, _ = metrics.roc_curve(y_test,  y_pred_proba)\n",
    "\n",
    "# построение ROC кривой\n",
    "plt.plot(fpr, tpr)\n",
    "plt.ylabel('True Positive Rate')\n",
    "plt.xlabel('False Positive Rate')\n",
    "plt.show()\n",
    "\n",
    "auc = metrics.roc_auc_score(y_test, y_pred_proba)\n",
    "print(\"AUC: %.3f\" % auc)"
   ]
  },
  {
   "cell_type": "markdown",
   "metadata": {},
   "source": [
    "#### Сводка по данным\n",
    "Если в train_df количество строк, где target=0, равным количеству строк, где target=1, то точность модели снизится с 0.897 до 0.835"
   ]
  },
  {
   "cell_type": "markdown",
   "metadata": {},
   "source": [
    "### Подбор параметров"
   ]
  },
  {
   "cell_type": "code",
   "execution_count": null,
   "metadata": {},
   "outputs": [
    {
     "name": "stdout",
     "output_type": "stream",
     "text": [
      "AUC: 0.833 \n",
      "best_min_samples_leaf = 7\n",
      "best_n_estimators = 35\n"
     ]
    }
   ],
   "source": [
    "best_auc = 0.0\n",
    "best_min_samples_leaf = 0\n",
    "best_n_estimators = 0\n",
    "\n",
    "for var1 in range(1,101):\n",
    "    for var2 in range(1,101):\n",
    "        rf_classifier = RandomForestClassifier(min_samples_leaf = var1, n_estimators = var2, random_state=384)\n",
    "        rf_classifier.fit(X_train, y_train)\n",
    "        y_pred_proba = rf_classifier.predict_proba(X_test)[:,1]\n",
    "        auc = metrics.roc_auc_score(y_test, y_pred_proba)\n",
    "        if auc > best_auc:\n",
    "            best_auc = auc\n",
    "            best_min_samples_leaf = var1\n",
    "            best_n_estimators = var2\n",
    "\n",
    "\n",
    "print(\"AUC: %.3f\" % best_auc, f\"\\nbest_min_samples_leaf = {best_min_samples_leaf}\\nbest_n_estimators = {best_n_estimators}\")\n",
    "# AUC: 0.897\n",
    "# best_min_samples_leaf = 7\n",
    "# best_n_estimators = 35"
   ]
  },
  {
   "cell_type": "markdown",
   "metadata": {},
   "source": [
    "### Подбор параметров при помощи GridSearchCV"
   ]
  },
  {
   "cell_type": "code",
   "execution_count": 73,
   "metadata": {},
   "outputs": [
    {
     "name": "stdout",
     "output_type": "stream",
     "text": [
      "Best parameters found:  {'max_depth': None, 'min_samples_leaf': 2, 'min_samples_split': 5, 'n_estimators': 20}\n",
      "Best cross-validation score: 0.90\n",
      "Test set accuracy: 0.77\n"
     ]
    }
   ],
   "source": [
    "from sklearn.model_selection import GridSearchCV\n",
    "\n",
    "# Определение модели\n",
    "model = RandomForestClassifier(random_state=384)\n",
    "\n",
    "# Определение сетки гиперпараметров\n",
    "param_grid = {\n",
    "    'n_estimators': range(1,36),  # Количество деревьев\n",
    "    'max_depth': [None,range(1,51)],     # Максимальная глубина деревьев\n",
    "    'min_samples_split': range(1,36),    # Минимальное количество образцов для разделения узла\n",
    "    'min_samples_leaf': range(1,8)      # Минимальное количество образцов в листе\n",
    "}\n",
    "\n",
    "# Создание объекта GridSearchCV\n",
    "grid_search = GridSearchCV(estimator=model, param_grid=param_grid, \n",
    "                           cv=5, scoring='accuracy', n_jobs=-1)\n",
    "\n",
    "# Обучение модели с перебором гиперпараметров\n",
    "grid_search.fit(X_train, y_train)\n",
    "\n",
    "# Вывод лучших гиперпараметров\n",
    "print(\"Best parameters found: \", grid_search.best_params_)\n",
    "\n",
    "# Вывод лучшей точности\n",
    "print(\"Best cross-validation score: {:.2f}\".format(grid_search.best_score_))\n",
    "\n",
    "# Оценка модели на тестовой выборке\n",
    "best_model = grid_search.best_estimator_\n",
    "test_accuracy = best_model.score(X_test, y_test)\n",
    "print(\"Test set accuracy: {:.2f}\".format(test_accuracy))"
   ]
  },
  {
   "cell_type": "markdown",
   "metadata": {},
   "source": [
    "#### **С соотношением target 1:1**</br>\n",
    "Best parameters found:  {'max_depth': None, 'min_samples_leaf': 7, 'min_samples_split': 17, 'n_estimators': 35}</br>\n",
    "Best cross-validation score: 0.87</br>\n",
    "Test set accuracy: 0.78</br>\n",
    "AUC: 0.833</br>\n",
    "при выставленных **min_samples_leaf = 7** и **n_estimators = 35**\n",
    "\n",
    "Best parameters found:  {'max_depth': None, 'min_samples_leaf': 2, 'min_samples_split': 5, 'n_estimators': 20}</br>\n",
    "Best cross-validation score: 0.90</br>\n",
    "Test set accuracy: 0.77</br>\n",
    "AUC: 0.842</br>\n",
    "без предопределённых **min_samples_leaf** и **n_estimators**\n",
    "\n",
    "Разница в auc = 0.009"
   ]
  },
  {
   "cell_type": "markdown",
   "metadata": {},
   "source": [
    "#### **Без выставленного соотношения**</br>\n",
    "Best parameters found:  {'max_depth': None, 'min_samples_leaf': 1, 'min_samples_split': 2, 'n_estimators': 31}</br>\n",
    "Best cross-validation score: 0.99</br>\n",
    "Test set accuracy: 0.98"
   ]
  },
  {
   "cell_type": "markdown",
   "metadata": {},
   "source": [
    "## **Итог подбора параметров, самые оптимальные:**\n",
    "\n",
    "max_depth = None, min_samples_leaf = 7, min_samples_split = 18, n_estimators = 35</br>\n",
    "Best cross-validation score: 0.98</br>\n",
    "Test set accuracy: 0.98\n",
    "\n",
    "Хоть и на кросс-валидации они выдают на 0.01 меньше, но на метрике влияют на целых 0.075</br>\n",
    "AUC: 0.822 против AUC: 0.897\n"
   ]
  }
 ],
 "metadata": {
  "kernelspec": {
   "display_name": "Python 3",
   "language": "python",
   "name": "python3"
  },
  "language_info": {
   "codemirror_mode": {
    "name": "ipython",
    "version": 3
   },
   "file_extension": ".py",
   "mimetype": "text/x-python",
   "name": "python",
   "nbconvert_exporter": "python",
   "pygments_lexer": "ipython3",
   "version": "3.13.1"
  }
 },
 "nbformat": 4,
 "nbformat_minor": 2
}
